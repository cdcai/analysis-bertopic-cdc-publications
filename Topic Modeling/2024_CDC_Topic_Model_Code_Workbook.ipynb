{
 "cells": [
  {
   "cell_type": "markdown",
   "id": "7fbb5eeb",
   "metadata": {},
   "source": [
    "Please see \"README_Reproducibility_2024_CDC_Topic_Model_Code_Workbook.ipynb\" for an explanation of some differences you will see when you run this notebook in a new environment."
   ]
  },
  {
   "cell_type": "code",
   "execution_count": 1,
   "id": "386080cf-b65a-4a00-8921-36847abc3796",
   "metadata": {},
   "outputs": [],
   "source": [
    "# Standard Libraries and Others\n",
    "import sys\n",
    "import pandas as pd\n",
    "import matplotlib\n",
    "import matplotlib.pyplot as plt\n",
    "import numpy as np\n",
    "import seaborn as sns\n",
    "import os\n",
    "import textwrap\n",
    "import time\n",
    "import requests\n",
    "import json\n",
    "import datetime"
   ]
  },
  {
   "cell_type": "code",
   "execution_count": 2,
   "id": "a8169e1f",
   "metadata": {},
   "outputs": [],
   "source": [
    "import pandas as pd\n",
    "from bertopic import BERTopic\n",
    "from transformers.pipelines import pipeline\n",
    "from transformers import AutoTokenizer, AutoModel\n",
    "from bertopic.vectorizers import ClassTfidfTransformer"
   ]
  },
  {
   "cell_type": "code",
   "execution_count": 3,
   "id": "768aba0c-eb9a-4dd0-9772-8e58a44db8f8",
   "metadata": {},
   "outputs": [
    {
     "name": "stdout",
     "output_type": "stream",
     "text": [
      "/home/jovyan/work/Science Clips Topic Model\n"
     ]
    }
   ],
   "source": [
    "print(os.getcwd())"
   ]
  },
  {
   "cell_type": "markdown",
   "id": "dbb68be6",
   "metadata": {},
   "source": [
    "# Import Data"
   ]
  },
  {
   "cell_type": "code",
   "execution_count": 4,
   "id": "88878c3e-adc4-4d85-be74-79f762d4daa4",
   "metadata": {},
   "outputs": [],
   "source": [
    "os.environ[\"TOKENIZERS_PARALLELISM\"] = \"false\""
   ]
  },
  {
   "cell_type": "markdown",
   "id": "f0bac6d5",
   "metadata": {},
   "source": [
    "Here, we import Science Clips. \n",
    "\n",
    "Science Clips is available as an Excel download from: https://www.cdc.gov/library/sciclips/download/.\n",
    "\n",
    "Because we used a specific version of Science Clips (accessed 5/3/2024), your results may vary if you use a fresh copy of Science Clips; to best replicate our results, limit the \"Date\" field of your download to 5/3/2024 or earlier. \n",
    "\n",
    "Our copy has a large file size that isn't stored in this GitHub repo. If you would like a copy of the specific version of Science Clips we used, please contact us."
   ]
  },
  {
   "cell_type": "code",
   "execution_count": 5,
   "id": "c227082a",
   "metadata": {},
   "outputs": [],
   "source": [
    "df_clips = pd.read_excel('ScienceClips_accessed20240503.xlsx')"
   ]
  },
  {
   "cell_type": "code",
   "execution_count": 7,
   "id": "a11d33b9-ca12-406e-9111-64dc6ce270cd",
   "metadata": {},
   "outputs": [],
   "source": [
    "# I will limit my dataset to publications from 2014 to 2023\n",
    "df_clips = df_clips[df_clips['Year'] <= 2023]\n",
    "df_clips = df_clips[df_clips['Year'] >= 2014]"
   ]
  },
  {
   "cell_type": "code",
   "execution_count": 8,
   "id": "7476a6ab-22af-439d-ad0a-2021a549c060",
   "metadata": {},
   "outputs": [
    {
     "name": "stdout",
     "output_type": "stream",
     "text": [
      "<class 'pandas.core.frame.DataFrame'>\n",
      "Index: 34104 entries, 180 to 37160\n",
      "Data columns (total 18 columns):\n",
      " #   Column                             Non-Null Count  Dtype         \n",
      "---  ------                             --------------  -----         \n",
      " 0   Authors                            34104 non-null  object        \n",
      " 1   CDC Authors                        34104 non-null  object        \n",
      " 2   Title                              34104 non-null  object        \n",
      " 3   Abstract                           34104 non-null  object        \n",
      " 4   Year                               34104 non-null  int64         \n",
      " 5   Journal                            34104 non-null  object        \n",
      " 6   Volume                             33508 non-null  object        \n",
      " 7   Issue                              29395 non-null  object        \n",
      " 8   Pages                              31925 non-null  object        \n",
      " 9   PMID                               32925 non-null  float64       \n",
      " 10  PMCID                              27132 non-null  object        \n",
      " 11  NIHMS                              874 non-null    object        \n",
      " 12  Preprint to final article linkage  913 non-null    object        \n",
      " 13  DOI                                33215 non-null  object        \n",
      " 14  URL                                34104 non-null  object        \n",
      " 15  Keywords                           32584 non-null  object        \n",
      " 16  Science Clips Headings             32829 non-null  object        \n",
      " 17  Date                               34104 non-null  datetime64[ns]\n",
      "dtypes: datetime64[ns](1), float64(1), int64(1), object(15)\n",
      "memory usage: 4.9+ MB\n"
     ]
    }
   ],
   "source": [
    "df_clips.info()"
   ]
  },
  {
   "cell_type": "code",
   "execution_count": 9,
   "id": "dbbda250",
   "metadata": {},
   "outputs": [],
   "source": [
    "docs = list(df_clips['Title'] + ' ' + df_clips['Abstract'])"
   ]
  },
  {
   "cell_type": "code",
   "execution_count": 10,
   "id": "aff59b9d",
   "metadata": {},
   "outputs": [
    {
     "data": {
      "text/plain": [
       "list"
      ]
     },
     "execution_count": 10,
     "metadata": {},
     "output_type": "execute_result"
    }
   ],
   "source": [
    "type(docs)"
   ]
  },
  {
   "cell_type": "code",
   "execution_count": 28,
   "id": "32c0d07d-bb04-4934-bfe0-d1179fd68abe",
   "metadata": {},
   "outputs": [
    {
     "data": {
      "text/plain": [
       "34104"
      ]
     },
     "execution_count": 28,
     "metadata": {},
     "output_type": "execute_result"
    }
   ],
   "source": [
    "len(docs)"
   ]
  },
  {
   "cell_type": "code",
   "execution_count": 37,
   "id": "790b18d1-434c-47bc-a0c1-bd9628ed7a5a",
   "metadata": {},
   "outputs": [
    {
     "data": {
      "text/plain": [
       "['Enhancing acute flaccid paralysis surveillance system towards polio eradication: reverse cold chain monitoring in Nigeria, 2017 to 2019 INTRODUCTION: Highly sensitive acute flaccid paralysis (AFP) surveillance is critical for detection of poliovirus circulation and documentation for polio-free certification. The reverse cold chain (RCC) is a system designed to maintain stool specimens in appropriate temperature for effective detection of poliovirus in the laboratory. We monitored the RCC of AFP surveillance in Nigeria to determine its effectiveness in maintaining viability of enterovirus. METHODS: A descriptive cross-sectional study was conducted from November 2017 to December 2019. We included AFP cases from 151 Local Government Areas and monitored RCC of paired stool specimens from collection to arrival at laboratories. The national guideline recommends RCC temperature of +2 to +8°C and a non-polio enterovirus (NPENT) detection rate of ≥10%. We analyzed data with Epi Info 7, and presented results as frequencies and proportions, using Chi-square statistic to test for difference in enterovirus isolation. RESULTS: Of the 1,042 tracked paired stool specimens, 1,038(99.6%) arrived at the laboratory within 72 hours of collection of second specimen, 824(79.1%) were maintained within recommended temperature range, and 271(26%) yielded enteroviruses: 200(73.8%) NPENT, 66(24.4%) Sabin, 3(1.1%) vaccine derived poliovirus type 2 and 2(0.7%) mixture of Sabin and NPENT. The NPENT and Sabin rates were 19.2% and 6.7% respectively. Twenty-five percent of 824 specimens maintained within recommended temperature range, compared with 29.8% of 218 specimens with temperature excursion yielded enteroviruses (P=0.175). CONCLUSION: the RCC of AFP surveillance system in the study area was optimal and effective in maintaining the viability of enteroviruses. It was unlikely that poliovirus transmission was missed during the intervention.',\n",
       " 'Implementation Strategies to Improve Blood Pressure Control in the United States: A Scientific Statement From the American Heart Association and American Medical Association Hypertension is one of the most important risk factors that contribute to incident cardiovascular events. A multitude of US and international hypertension guidelines, scientific statements, and policy statements have recommended evidence-based approaches for hypertension management and improved blood pressure (BP) control. These recommendations are based largely on high-quality observational and randomized controlled trial data. However, recent published data demonstrate troubling temporal trends with declining BP control in the United States after decades of steady improvements. Therefore, there is a widening disconnect between what hypertension experts recommend and actual BP control in practice. This scientific statement provides information on the implementation strategies to optimize hypertension management and to improve BP control among adults in the United States. Key approaches include antiracism efforts, accurate BP measurement and increased use of self-measured BP monitoring, team-based care, implementation of policies and programs to facilitate lifestyle change, standardized treatment protocols using team-based care, improvement of medication acceptance and adherence, continuous quality improvement, financial strategies, and large-scale dissemination and implementation. Closing the gap between scientific evidence, expert recommendations, and achieving BP control, particularly among disproportionately affected populations, is urgently needed to improve cardiovascular health.',\n",
       " 'CDC\\'s \"Learn the Signs. Act Early.\" Developmental Milestone Resources to Improve Early Identification of Children with Developmental Delays, Disorders, and Disabilities Approximately 1 in 6 children in the US has a developmental delay, disorder, or disability (DD). Early identification of DDs can help families access services that empower children and families, and it can improve child outcomes. The \"Learn the Signs. Act Early.\" (LTSAE) Program at the Centers for Disease Control and Prevention (CDC) encourages parents and providers to monitor every child\\'s early development and act when there is a concern. In February 2022, LTSAE released revised materials that include updated developmental milestone checklists to better support ongoing conversations between families and professionals. This article describes the purpose of the checklists and how early childhood professionals can use these free resources to engage families in developmental monitoring.',\n",
       " \"A Qualitative Evaluation of the Centers for Disease Control and Prevention Risk Communication Methods during Multistate Foodborne Outbreaks Many efforts across the farm-to-fork continuum aim to reduce foodborne disease and outbreaks. Real-time risk communication is an important component of the Centers for Disease Control and Prevention (CDC) efforts, especially during outbreaks. To inform risk communication with the public during multistate foodborne outbreaks, we conducted a series of focus groups of adults in the Washington, D.C., metropolitan area to understand attitudes, perceptions, behaviors, and how people receive information around foodborne disease outbreaks. Results from these focus groups provided insight on factors that might influence consumer perception and behavior during an outbreak. Perceived outbreak proximity and personal consumption of an outbreak vehicle were identified as also reported hearing about multiple outbreaks per year some drivers of perceived risk to an outbreak. Participants through a variety of sources and following recommended actions during an outbreak, implying some existing penetration of current risk messages for multistate foodborne outbreaks. Findings from these focus groups are a first step in increasing understanding of how CDC messages affect the consumers' ability to access and act upon reliable information to protect their health during outbreaks and serve as a baseline for further evaluation efforts of CDC risk communication strategy for multistate foodborne outbreaks.\",\n",
       " 'Utility of the lateral flow urine lipoarabinomannan tuberculosis assay in patients with advanced HIV disease at antiretroviral therapy centres in Mumbai, India BACKGROUND: People with Advanced HIV Disease (AHD) are at higher risk of TB coinfection and mortality. However, there are challenges in TB diagnosis with the currently recommended diagnostic tools. WHO recommends lateral flow urine lipoarabinomannan (LF-LAM) assay to assist TB diagnosis among AHD patients. We assessed the utility and acceptability of using urine LF-LAM assay for TB diagnosis among patients at public Antiretroviral Therapy (ART) Centres in Mumbai. METHODS: The cross-sectional study was conducted among adult AHD patients accessing care from 17 ART centres during November,2020-June, 2021. Urine LF-LAM was offered as routine care for eligible patients in combination with standard diagnostic tests. We calculated the proportion of positive LF-LAM results by CD4 categories and TB symptoms and performed multivariable logistic regression to determine the factors associated with LF-LAM positivity. RESULTS: Among 2,390 patients, the majority (74.5%) had CD4 between 101-200 cells/mm3. The mean age was 43.7 years (SD:10.6), 68.6% were male, 8.4% had TB symptoms and 88.0% were on ART. The overall proportion of patients with urine LF-LAM positive results was 6.4%. Among PLHIV with CD4≤100 cells/mm3, the positivity was 43.0% and 7.7% in symptomatic and asymptomatic patients, respectively. Among PLHIV with a CD4>100 cells/mm3, the positivity was 26.7% and 2.7% in symptomatic and asymptomatic patients respectively. Urine LF-LAM positivity was higher among inpatients, ART naïve, patients on treatment for <6 months, symptomatic and in WHO clinical stage III/IV of HIV disease as compared to the reference categories. We detected an additional 131 TB cases with urine LF-LAM in combination with the standard diagnostic tests. CONCLUSION: The study demonstrated the utility of urine LF-LAM for TB diagnosis among AHD patients and the simple, user-friendly test was acceptable as part of routine care. Inclusion of urine LF-LAM test in the current diagnostic algorithm may facilitate early TB diagnosis among AHD patients.']"
      ]
     },
     "execution_count": 37,
     "metadata": {},
     "output_type": "execute_result"
    }
   ],
   "source": [
    "docs[0:5]"
   ]
  },
  {
   "cell_type": "markdown",
   "id": "b65a5892",
   "metadata": {},
   "source": [
    "# 1. Embedding"
   ]
  },
  {
   "cell_type": "code",
   "execution_count": 12,
   "id": "38085e9c-d66b-4e7f-8b62-0dccd4593465",
   "metadata": {},
   "outputs": [
    {
     "data": {
      "application/vnd.jupyter.widget-view+json": {
       "model_id": "7a4f58b378d44a84a4ec9a41151448e7",
       "version_major": 2,
       "version_minor": 0
      },
      "text/plain": [
       "Batches:   0%|          | 0/1066 [00:00<?, ?it/s]"
      ]
     },
     "metadata": {},
     "output_type": "display_data"
    }
   ],
   "source": [
    "from sentence_transformers import SentenceTransformer\n",
    "\n",
    "# Pre-calculate embeddings\n",
    "embedding_model = SentenceTransformer(\"allenai-specter\")\n",
    "embeddings = embedding_model.encode(docs, show_progress_bar=True)"
   ]
  },
  {
   "cell_type": "code",
   "execution_count": 13,
   "id": "4f277818-94cf-4cd9-b86b-61bfea1f254f",
   "metadata": {},
   "outputs": [
    {
     "data": {
      "text/plain": [
       "(34104, 768)"
      ]
     },
     "execution_count": 13,
     "metadata": {},
     "output_type": "execute_result"
    }
   ],
   "source": [
    "embeddings.shape"
   ]
  },
  {
   "cell_type": "code",
   "execution_count": 29,
   "id": "10a1cb1b-5d2b-4140-b851-a3ecae3bad11",
   "metadata": {},
   "outputs": [
    {
     "data": {
      "text/plain": [
       "array([ 5.61787665e-01, -8.40109140e-02,  9.71067399e-02,  1.05580831e+00,\n",
       "       -3.75183970e-01,  9.47094023e-01,  2.91449666e-01,  9.34312940e-01,\n",
       "       -9.49569792e-02,  5.81512570e-01, -7.35049993e-02,  1.66970894e-01,\n",
       "       -2.73748517e-01,  8.17897677e-01, -4.63324487e-01, -9.50737670e-02,\n",
       "       -1.62628531e+00,  4.71217096e-01, -3.01699638e-02, -3.43132228e-01,\n",
       "        2.50212457e-02, -2.57567316e-01, -1.20233893e+00,  2.05016756e+00,\n",
       "       -1.05179989e+00, -2.39362344e-01,  1.54852605e+00, -3.35096382e-02,\n",
       "       -4.52603340e-01,  1.24597237e-01, -3.88383446e-03,  5.49504273e-02,\n",
       "       -5.21303773e-01,  4.07696635e-01, -4.51892227e-01,  2.57099979e-02,\n",
       "       -3.77694637e-01,  4.08637494e-01, -7.74119973e-01,  1.03649783e+00,\n",
       "       -9.41887498e-01,  2.87357032e-01, -2.94630438e-01,  1.82351023e-01,\n",
       "        1.21745035e-01, -3.77612442e-01, -2.73459285e-01, -4.07523185e-01,\n",
       "       -9.95247886e-02,  1.06890464e+00,  1.86224394e-02,  1.32145214e+00,\n",
       "        7.81384349e-01, -1.81158036e-01,  1.32085574e+00,  3.46845776e-01,\n",
       "        1.55887142e-01,  1.07934535e+00,  5.28192334e-03,  7.33496547e-02,\n",
       "        5.01522303e-01,  5.03991283e-02,  4.95448038e-02,  9.41570163e-01,\n",
       "       -1.07369661e+00, -1.20637596e+00,  1.06139350e+00, -4.22975272e-01,\n",
       "       -1.19608331e+00,  4.54299331e-01,  5.39301753e-01, -5.19527435e-01,\n",
       "        4.22137648e-01, -1.18898082e+00,  4.89667565e-01, -4.37274873e-01,\n",
       "       -2.79178202e-01,  8.73826325e-01,  1.18086729e-02, -3.35236073e-01,\n",
       "        6.39592946e-01,  4.89525110e-01,  5.59697270e-01, -1.53276181e+00,\n",
       "       -3.78670812e-01, -4.42042887e-01,  2.55406618e-01, -2.15483856e+00,\n",
       "        2.79471576e-01, -1.12012827e+00,  6.22137338e-02, -8.60213414e-02,\n",
       "        1.69627476e+00, -2.51587760e-02, -1.47422493e-01,  6.83322787e-01,\n",
       "       -7.05449164e-01,  3.50600362e-01, -9.74706471e-01,  8.94556642e-01,\n",
       "       -9.68117937e-02, -7.12651014e-01,  5.29876292e-01, -4.35239196e-01,\n",
       "        9.17103171e-01,  3.61830682e-01,  1.62036642e-01,  5.02294660e-01,\n",
       "       -7.68935978e-01,  4.27767336e-01, -3.52453351e-01,  8.73001590e-02,\n",
       "       -4.60692823e-01,  6.44438028e-01, -3.28591257e-01,  3.49577725e-01,\n",
       "       -4.37551707e-01, -1.55803466e+00,  3.39769721e-01, -6.23998404e-01,\n",
       "        1.25110301e-03, -8.43399048e-01, -1.49899745e+00, -9.86970544e-01,\n",
       "        6.12558246e-01, -4.69007850e-01,  1.08173206e-01,  5.84529877e-01,\n",
       "       -1.37430203e+00,  4.71276134e-01,  7.32942522e-01, -5.69845974e-01,\n",
       "       -1.74421385e-01, -2.73084253e-01,  2.68491864e+00, -1.00715256e+00,\n",
       "        1.00277019e+00, -8.92235190e-02,  1.00745112e-02,  8.84279311e-02,\n",
       "       -2.76885450e-01, -3.59678000e-01,  3.84409428e-01, -9.31737423e-01,\n",
       "       -2.70348996e-01,  2.17172191e-01,  3.81784618e-01, -8.85303736e-01,\n",
       "       -5.17310679e-01,  8.31224501e-01,  7.60845900e-01,  1.95219910e+00,\n",
       "       -2.83893019e-01, -2.62271196e-01, -2.66282767e-01,  1.66423988e+00,\n",
       "       -9.88871634e-01, -1.59998095e+00,  3.64917964e-01, -4.04081285e-01,\n",
       "        5.78554332e-01,  2.07040459e-01,  2.28251204e-01, -1.39386445e-01,\n",
       "       -4.50826406e-01,  3.21315497e-01,  1.37929916e+00,  3.88540000e-01,\n",
       "       -9.34713185e-01,  9.22173440e-01,  9.46807414e-02, -6.12087488e-01,\n",
       "       -4.07590687e-01,  2.08828673e-02, -1.92239732e-01, -1.88681722e-01,\n",
       "        6.69312716e-01,  2.89027601e-01, -2.01158598e-01,  1.07381165e+00,\n",
       "       -7.15199351e-01,  5.15738189e-01, -1.50490081e+00, -9.35721174e-02,\n",
       "        1.09342575e+00, -5.14093161e-01, -1.14467406e+00, -6.17656231e-01,\n",
       "       -6.29826307e-01,  4.35339332e-01,  1.96174309e-01, -1.46282703e-01,\n",
       "        1.57133639e-01,  1.19633210e+00, -4.62983958e-02,  5.36584444e-02,\n",
       "        6.74171448e-02, -9.11403358e-01, -7.72670627e-01, -9.41464156e-02,\n",
       "        7.19067752e-01, -1.08799130e-01, -1.54131040e-01,  1.07692607e-01,\n",
       "        6.77060038e-02, -2.01054072e+00,  1.07059515e+00, -3.54480356e-01,\n",
       "        7.57486761e-01,  1.51690757e+00, -8.95757735e-01,  1.58573836e-01,\n",
       "       -8.41955617e-02, -1.07136846e+00, -5.16265817e-02, -9.07781065e-01,\n",
       "        1.61911681e-01, -1.69426119e+00, -7.49859869e-01, -1.65834856e+00,\n",
       "       -4.74432647e-01,  7.40307927e-01,  2.14847267e-01,  1.25767916e-01,\n",
       "        2.10756734e-01,  3.49411428e-01,  2.36650944e-01, -1.35991052e-01,\n",
       "        8.21393013e-01,  6.31045818e-01, -3.19363356e-01, -7.70519972e-01,\n",
       "        3.13471973e-01,  7.28636265e-01,  8.09811473e-01,  1.53709769e+00,\n",
       "        1.39866233e+00, -5.04625738e-01, -1.90234184e+00, -9.84136164e-01,\n",
       "        7.38928974e-01, -1.07102025e+00,  6.11424327e-01, -5.12093538e-04,\n",
       "       -5.09999543e-02, -2.99263716e-01, -8.07715595e-01,  5.77489555e-01,\n",
       "        8.08270350e-02, -1.18422997e+00,  2.11621419e-01,  4.83094573e-01,\n",
       "       -7.03673139e-02,  1.62997758e+00, -2.42463738e-01, -4.41629231e-01,\n",
       "        7.32716978e-01,  1.69721052e-01, -6.62623555e-04,  7.49720693e-01,\n",
       "       -4.32770401e-01, -4.57616925e-01, -2.94700325e-01, -4.48235750e-01,\n",
       "        3.73537540e-01, -2.02234723e-02, -7.48371422e-01, -5.89863002e-01,\n",
       "        5.28390110e-01, -1.40870184e-01,  5.82353890e-01,  1.06230700e+00,\n",
       "       -9.32366308e-03,  5.39331138e-01, -9.36567187e-01,  5.48258461e-02,\n",
       "       -6.03346169e-01,  5.13078034e-01,  1.07574594e+00,  4.77346331e-01,\n",
       "       -9.58541632e-01,  1.22773193e-01, -1.37724653e-01,  1.39236838e-01,\n",
       "        1.96136129e+00, -7.26581395e-01,  2.19690189e-01,  5.80079496e-01,\n",
       "       -5.72731256e-01, -4.53930944e-01, -6.93453670e-01,  7.27025151e-01,\n",
       "       -2.84946803e-02,  2.85052985e-01,  5.01190543e-01,  1.75978377e-01,\n",
       "        3.60739917e-01,  6.53597295e-01,  2.92739660e-01,  7.92872787e-01,\n",
       "       -1.43985093e-01, -1.86417019e+00,  6.31297410e-01,  1.55992374e-01,\n",
       "       -4.45168257e-01, -2.89695591e-01,  2.58563906e-01,  8.07307243e-01,\n",
       "       -1.50396645e-01,  3.98693889e-01,  6.84214532e-01, -7.09597588e-01,\n",
       "        6.70612633e-01, -1.26537299e+00,  2.67784242e-02,  2.83813626e-01,\n",
       "       -5.74524581e-01, -1.11410499e+00, -1.11075950e+00,  1.81585595e-01,\n",
       "       -1.14975572e+00,  1.46567151e-01, -1.20713782e+00,  5.94758332e-01,\n",
       "       -9.05664444e-01, -2.88151205e-01,  6.51508942e-02,  2.33108506e-01,\n",
       "       -8.86520803e-01,  7.80462384e-01,  3.37270975e-01,  3.50501120e-01,\n",
       "       -1.38615608e+00, -5.22151589e-01,  9.06197205e-02,  7.35845745e-01,\n",
       "       -1.17382392e-01, -3.78079414e-01,  3.26357514e-01,  1.76391229e-02,\n",
       "       -2.23200932e-01, -2.74215996e-01,  1.59485590e+00,  1.78885174e+00,\n",
       "        7.33618498e-01, -9.40777175e-03,  6.15742087e-01, -9.68152583e-01,\n",
       "       -7.32042342e-02,  2.32757911e-01,  1.00512838e+00,  9.01237369e-01,\n",
       "        7.61224449e-01,  6.04163587e-01,  5.49740672e-01, -5.77134788e-01,\n",
       "        7.56790578e-01,  1.19714332e+00,  7.59611428e-01, -3.49689662e-01,\n",
       "        1.63524604e+00,  1.55446023e-01,  5.71276844e-01,  5.97421288e-01,\n",
       "       -4.60489839e-02,  3.90438050e-01,  3.76479715e-01, -3.56525272e-01,\n",
       "        1.20658386e+00, -4.46147710e-01, -2.03348160e-01, -1.67998686e-01,\n",
       "       -2.54286766e-01,  8.54193568e-01,  1.15076637e+00,  1.13970920e-01,\n",
       "        7.36854136e-01,  1.58992732e+00,  1.27799511e+00, -7.33572960e-01,\n",
       "        1.05953060e-01, -1.28252876e+00, -1.46036685e-01, -1.29616678e+00,\n",
       "        1.36917904e-01, -4.38082844e-01, -1.22336440e-01, -1.86377752e+00,\n",
       "        1.97447799e-02,  1.82608092e+00,  2.40302831e-01,  7.79262781e-01,\n",
       "       -1.24028671e+00, -1.30198598e-01, -1.25143513e-01, -1.30534500e-01,\n",
       "       -1.96046382e-01,  1.51423708e-01, -4.12539274e-01, -1.16694427e+00,\n",
       "        1.34899151e+00,  4.78166565e-02, -1.43068802e+00, -1.34860766e+00,\n",
       "        1.18623450e-01, -1.65631664e+00,  7.82583892e-01, -4.45476949e-01,\n",
       "        2.74809040e-02, -6.30727336e-02,  6.02733314e-01,  7.96478033e-01,\n",
       "       -2.09773272e-01,  1.36651587e+00,  2.18054369e-01,  3.60119551e-01,\n",
       "       -4.44059633e-02,  1.06101918e+00,  1.15916453e-01, -3.88120472e-01,\n",
       "        1.97011507e+00,  1.94859850e+00, -5.29413104e-01,  2.38407984e-01,\n",
       "        4.66242909e-01, -6.52728736e-01,  2.09244832e-01, -3.10315549e-01,\n",
       "       -6.10225320e-01, -2.10058749e-01, -3.76100391e-01,  2.75492579e-01,\n",
       "        6.95283175e-01, -7.50375807e-01, -5.63026369e-01, -1.25809360e+00,\n",
       "        9.30944681e-01,  1.11000109e+00, -8.22169840e-01,  3.04621905e-02,\n",
       "       -1.41426015e+00,  1.39256322e+00,  9.86219823e-01,  2.96163857e-01,\n",
       "       -1.34567821e+00,  1.16118455e+00, -6.54323578e-01, -2.22749785e-01,\n",
       "        7.84291625e-02, -7.58147299e-01,  4.84075814e-01,  2.42998466e-01,\n",
       "        3.01441938e-01, -3.93510342e-01, -8.56099319e+00,  1.04406819e-01,\n",
       "        8.01238567e-02,  7.57056773e-01, -1.41432154e+00, -6.70433566e-02,\n",
       "        4.42306727e-01, -3.93066376e-01,  1.17607629e+00,  1.46396622e-01,\n",
       "        8.41994345e-01,  2.33537173e+00, -2.45038629e-01, -1.67818353e-01,\n",
       "       -5.14958143e-01,  3.55095893e-01, -6.10870570e-02,  6.08798340e-02,\n",
       "        7.64955059e-02,  7.48829767e-02, -1.07700586e+00, -2.06839371e+00,\n",
       "        1.30008817e+00, -4.32971150e-01,  7.41852105e-01, -4.79134023e-01,\n",
       "       -2.35667732e-02,  3.06632370e-01, -5.83372056e-01, -3.36369038e-01,\n",
       "        4.72356498e-01,  1.33004218e-01, -2.13975102e-01, -8.78729820e-01,\n",
       "        1.25904918e-01,  5.16360223e-01, -9.11774114e-02,  5.29146492e-01,\n",
       "        1.23812747e+00,  1.04254878e+00,  5.75944066e-01, -5.64064860e-01,\n",
       "       -6.45987093e-01,  9.27916765e-02,  3.89949232e-01,  2.16484040e-01,\n",
       "       -1.78557094e-02, -6.93518400e-01,  1.12814915e+00, -2.82428823e-02,\n",
       "       -1.69248235e+00,  4.40421641e-01,  6.24505520e-01, -7.27637053e-01,\n",
       "        8.15270305e-01,  8.71073961e-01, -1.47370851e+00, -3.46559733e-01,\n",
       "       -1.53056443e+00, -1.18675515e-01,  1.10509002e+00, -1.43266773e+00,\n",
       "       -1.00078201e+00,  1.70674652e-01, -4.81302023e-01,  2.71452993e-01,\n",
       "       -4.58348423e-01,  8.40468168e-01, -1.65940309e+00, -4.19021457e-01,\n",
       "       -4.93755311e-01,  9.83151674e-01,  5.65209866e-01, -3.49626660e-01,\n",
       "       -5.07170439e-01, -2.24642977e-01, -1.32633376e+00, -1.11659527e+00,\n",
       "        3.27146530e-01, -8.18995476e-01, -3.30299586e-02,  2.53535688e-01,\n",
       "       -1.73738599e+00,  3.47650111e-01, -7.12993681e-01,  4.16844130e-01,\n",
       "        3.10545534e-01, -1.73434043e+00,  1.40193856e+00,  1.25277653e-01,\n",
       "        1.04775153e-01,  5.85267782e-01, -7.28713393e-01,  5.61385512e-01,\n",
       "       -1.39857411e-01,  1.23253965e+00,  4.66650605e-01,  1.66514382e-01,\n",
       "       -4.11932841e-02, -1.17816579e+00,  1.31220460e+00, -8.32467154e-02,\n",
       "       -4.14571226e-01,  7.40248501e-01,  9.63041961e-01,  8.41965914e-01,\n",
       "       -3.20126057e-01, -5.41215420e-01,  1.67476371e-01,  1.64026171e-01,\n",
       "        5.88787854e-01, -1.05688190e+00, -3.30537498e-01,  2.95503199e-01,\n",
       "        3.66802841e-01,  2.63875782e-01, -4.37356234e-02,  1.28648829e+00,\n",
       "       -1.02165580e-01, -8.81188959e-02,  1.77612507e+00, -2.55475074e-01,\n",
       "        9.65275645e-01,  6.15333736e-01, -2.13732049e-01,  2.14443654e-01,\n",
       "        2.82166004e-01, -2.85050660e-01, -1.52293253e+00, -1.23057210e+00,\n",
       "        7.35723794e-01,  1.95186034e-01, -3.78634512e-01,  2.06624031e-01,\n",
       "       -2.00896814e-01, -2.40473938e+00,  3.22836369e-01, -1.05466042e-02,\n",
       "        2.94115663e-01, -5.54761738e-02, -9.73918140e-01,  6.33527458e-01,\n",
       "       -7.54811347e-01,  1.18152297e+00, -2.83819258e-01, -1.26619565e+00,\n",
       "       -4.99103576e-01,  7.14444280e-01, -3.33756596e-01, -8.36682975e-01,\n",
       "       -7.56905854e-01, -1.19303358e+00,  6.77426219e-01,  6.96066976e-01,\n",
       "        8.49542379e-01, -1.52847445e+00,  1.37828779e+00,  3.92410368e-01,\n",
       "       -5.60450368e-02,  6.65780604e-01,  1.41062811e-01, -1.31404310e-01,\n",
       "       -7.36226201e-01,  9.92526770e-01, -6.06176615e-01,  2.84864038e-01,\n",
       "       -6.92605555e-01, -1.38021243e+00,  5.93865812e-02,  6.11999929e-01,\n",
       "        7.27263927e-01, -4.58058923e-01, -9.37810600e-01,  4.67707008e-01,\n",
       "        8.45871449e-01, -2.23572582e-01,  6.27355218e-01,  2.37650778e-02,\n",
       "       -5.03447950e-01, -2.82922149e-01, -9.09126878e-01,  1.47623599e+00,\n",
       "       -4.70283151e-01, -1.11259460e+00, -1.16650426e+00,  1.12005579e+00,\n",
       "       -4.12751138e-01,  6.31907642e-01, -1.09580421e+00,  1.73414767e+00,\n",
       "       -9.45627868e-01, -1.15073609e+00,  1.29411906e-01,  3.95388186e-01,\n",
       "        8.15068126e-01,  1.52257591e-01,  8.08565095e-02, -9.07705873e-02,\n",
       "       -8.42602193e-01, -2.39325210e-01, -5.11089802e-01,  4.41449165e-01,\n",
       "        4.21154737e-01,  1.38575945e-03, -8.83062363e-01, -8.38915527e-01,\n",
       "       -1.46222189e-01, -1.37719560e+00,  4.57878441e-01,  1.00353515e+00,\n",
       "        1.81302801e-01, -2.38031879e-01,  1.21031559e+00, -3.69298726e-01,\n",
       "        1.66474521e-01, -5.63940048e-01,  8.52902710e-01,  3.17800283e-01,\n",
       "       -7.56243408e-01,  7.23492920e-01,  1.03489757e+00,  4.61877912e-01,\n",
       "       -3.14632803e-01,  1.04623866e+00, -1.38857591e+00,  5.24706721e-01,\n",
       "        1.07361627e+00, -2.24985272e-01,  7.67697155e-01,  1.03060555e+00,\n",
       "       -5.77129662e-01,  4.11293715e-01, -6.63694561e-01, -7.50664651e-01,\n",
       "       -4.35018986e-01,  8.85133862e-01,  1.54673314e+00,  6.67417347e-01,\n",
       "       -8.61624062e-01,  8.00719142e-01, -1.37220407e+00,  8.83602619e-01,\n",
       "       -4.21407938e-01,  1.04328752e+00, -1.17424357e+00, -3.97640377e-01,\n",
       "        6.61010504e-01, -3.12859565e-01, -5.23237765e-01,  1.76045692e+00,\n",
       "        7.20641255e-01,  4.09193277e-01, -8.44512805e-02,  6.88416541e-01,\n",
       "       -6.60186857e-02, -8.04704249e-01, -8.30451623e-02, -4.61064279e-01,\n",
       "        9.57268715e-01,  1.92260396e+00,  1.50496614e+00, -1.23094773e+00,\n",
       "       -1.15244973e+00,  1.80427468e+00, -1.28555262e+00, -1.44367918e-01,\n",
       "       -8.18364620e-01, -5.72292328e-01, -4.39674765e-01, -3.17069441e-01,\n",
       "        1.04617879e-01, -3.12495142e-01,  6.49920464e-01, -3.92917663e-01,\n",
       "        1.44638792e-01,  1.23477548e-01, -7.36930788e-01, -1.64217663e+00,\n",
       "       -6.60988927e-01,  1.00371838e-01, -1.46903729e+00, -2.30551481e-01,\n",
       "       -1.46377647e+00, -8.49647000e-02,  3.11681062e-01,  6.44810349e-02,\n",
       "       -1.88675478e-01, -5.38036585e-01, -6.55633025e-03, -1.66374445e+00,\n",
       "       -1.37406811e-01,  1.03844285e-01, -1.12656415e+00, -3.03140193e-01,\n",
       "       -6.33991778e-01,  2.65397668e-01, -7.17777247e-03, -1.61651075e-01,\n",
       "       -6.01687849e-01,  1.60367712e-01, -1.32822543e-02, -6.56152666e-01,\n",
       "        3.97971004e-01,  1.29653454e-01,  7.21376657e-01,  6.05674863e-01,\n",
       "        3.83915633e-01,  6.51514471e-01, -4.62701976e-01,  1.51058525e-01,\n",
       "       -3.29190403e-01,  5.26795566e-01, -8.44368815e-01,  3.00111741e-01],\n",
       "      dtype=float32)"
      ]
     },
     "execution_count": 29,
     "metadata": {},
     "output_type": "execute_result"
    }
   ],
   "source": [
    "embeddings[0,:]"
   ]
  },
  {
   "cell_type": "markdown",
   "id": "aec8d211",
   "metadata": {},
   "source": [
    "# 2. Dimensionality Reduction (UMAP)"
   ]
  },
  {
   "cell_type": "code",
   "execution_count": 14,
   "id": "d75651b1-23ea-48c3-9ce1-50593bdec2a6",
   "metadata": {},
   "outputs": [],
   "source": [
    "from umap import UMAP\n",
    "umap_model = UMAP(n_neighbors=25, n_components=50, min_dist=0.0, metric='cosine', random_state=47)\n",
    "umap_embeddings = umap_model.fit_transform(embeddings)"
   ]
  },
  {
   "cell_type": "code",
   "execution_count": 15,
   "id": "63cda9b2-64b5-4664-bc71-9fdf82aad159",
   "metadata": {},
   "outputs": [
    {
     "data": {
      "text/plain": [
       "(34104, 50)"
      ]
     },
     "execution_count": 15,
     "metadata": {},
     "output_type": "execute_result"
    }
   ],
   "source": [
    "umap_embeddings.shape"
   ]
  },
  {
   "cell_type": "markdown",
   "id": "578b1dd2",
   "metadata": {},
   "source": [
    "# 3. Clustering (HDBSCAN)"
   ]
  },
  {
   "cell_type": "code",
   "execution_count": 18,
   "id": "97274abc-1406-415b-9b36-a5cf23c216eb",
   "metadata": {},
   "outputs": [],
   "source": [
    "from hdbscan import HDBSCAN\n",
    "\n",
    "hdbscan_model = HDBSCAN(min_cluster_size=175,\n",
    "                        min_samples=10,\n",
    "                        metric='euclidean', \n",
    "                        cluster_selection_method='eom', \n",
    "                        prediction_data=True,\n",
    "                       gen_min_span_tree = True)\n",
    "hdbscan_embeddings = hdbscan_model.fit(umap_embeddings)"
   ]
  },
  {
   "cell_type": "markdown",
   "id": "3da14386",
   "metadata": {},
   "source": [
    "# Optimization Parameters:\n",
    "## Coverage:"
   ]
  },
  {
   "cell_type": "code",
   "execution_count": 19,
   "id": "f0bdba3e-dd29-47da-8dfe-a39a57fc9ff8",
   "metadata": {},
   "outputs": [
    {
     "name": "stdout",
     "output_type": "stream",
     "text": [
      "0.7784424114473375\n"
     ]
    }
   ],
   "source": [
    "coverage = (len(hdbscan_embeddings.labels_) - np.sum(hdbscan_embeddings.labels_ == -1))/len(hdbscan_embeddings.labels_)\n",
    "print(coverage)"
   ]
  },
  {
   "cell_type": "markdown",
   "id": "d4f7238f",
   "metadata": {},
   "source": [
    "## Validity:"
   ]
  },
  {
   "cell_type": "code",
   "execution_count": 20,
   "id": "cb29e6cd-f793-4c58-9ee5-6565421ed4cd",
   "metadata": {},
   "outputs": [
    {
     "name": "stdout",
     "output_type": "stream",
     "text": [
      "0.5007782122861829\n"
     ]
    }
   ],
   "source": [
    "validity = hdbscan_embeddings.relative_validity_\n",
    "print(validity)"
   ]
  },
  {
   "cell_type": "markdown",
   "id": "ba9d0e90",
   "metadata": {},
   "source": [
    "## Evenness:"
   ]
  },
  {
   "cell_type": "code",
   "execution_count": 21,
   "id": "fd70206f-5769-4cea-bd9b-0c8dabcbc278",
   "metadata": {},
   "outputs": [
    {
     "name": "stdout",
     "output_type": "stream",
     "text": [
      "[7556  738  560  307  587  282  275 2931  184  494  379  903  214  345\n",
      "  559  669  868  204  577  351 3828  175  400  874  522  240  293  279\n",
      "  525  365  730  859  472  293  181  538  433  353  722  177  569  230\n",
      "  484  345  603  327  304]\n",
      "637.6625660991547\n"
     ]
    }
   ],
   "source": [
    "_,counts = np.unique(hdbscan_embeddings.labels_,return_counts = True)\n",
    "print(counts)\n",
    "\n",
    "# Old evenness implementation\n",
    "#cluster_evenness = np.std(counts[1:])\n",
    "#print(cluster_evenness)"
   ]
  },
  {
   "cell_type": "code",
   "execution_count": 22,
   "id": "f20ca420-9ed5-4e0c-9a89-f536a4960adb",
   "metadata": {},
   "outputs": [
    {
     "name": "stdout",
     "output_type": "stream",
     "text": [
      "3828\n",
      "175\n",
      "0.8928801829804703\n"
     ]
    }
   ],
   "source": [
    "evenness = 1 - ((np.max(counts[1:]) - np.min(counts[1:]))/(len(hdbscan_embeddings.labels_)-2))\n",
    "print(np.max(counts[1:]))\n",
    "print(np.min(counts[1:]))\n",
    "print(evenness)"
   ]
  },
  {
   "cell_type": "code",
   "execution_count": 23,
   "id": "3515e61a-1d5d-48de-b843-90b0295c4cac",
   "metadata": {},
   "outputs": [
    {
     "data": {
      "text/plain": [
       "46"
      ]
     },
     "execution_count": 23,
     "metadata": {},
     "output_type": "execute_result"
    }
   ],
   "source": [
    "len(counts[1:])"
   ]
  },
  {
   "cell_type": "markdown",
   "id": "53a45002",
   "metadata": {},
   "source": [
    "## Overall Optimization Score:"
   ]
  },
  {
   "cell_type": "code",
   "execution_count": 24,
   "id": "d2a0135e-2a87-4df2-9f71-d8468820a451",
   "metadata": {},
   "outputs": [
    {
     "name": "stdout",
     "output_type": "stream",
     "text": [
      "0.724033602237997\n"
     ]
    }
   ],
   "source": [
    "overall = (coverage/3)+(validity/3)+(evenness/3)\n",
    "print(overall)"
   ]
  },
  {
   "cell_type": "markdown",
   "id": "bee0eb7f",
   "metadata": {},
   "source": [
    "# Optimization Implementation:"
   ]
  },
  {
   "cell_type": "code",
   "execution_count": 25,
   "id": "996844fa-1037-42f3-8b2f-0dc64ec06d9b",
   "metadata": {},
   "outputs": [
    {
     "name": "stdout",
     "output_type": "stream",
     "text": [
      "Best DBCV score: 0.739\n",
      "Best DBCV parameters: {'n_neighbors': 15, 'n_components': 25, 'min_dist': 0.25, 'min_cluster_size': 25, 'min_samples': 40}\n",
      "Best evenness: 0.988\n",
      "Best evenness: {'n_neighbors': 25, 'n_components': 25, 'min_dist': 0.75, 'min_cluster_size': 25, 'min_samples': 10}\n",
      "Best overall score: 0.724\n",
      "Best overall parameters: {'n_neighbors': 25, 'n_components': 50, 'min_dist': 0, 'min_cluster_size': 175, 'min_samples': 10}\n"
     ]
    }
   ],
   "source": [
    "# Huge grid search implementation adapted by Joy Ortega from Mueller and Guido\n",
    "# Last modified 2024-05-10\n",
    "\n",
    "import hdbscan\n",
    "\n",
    "# I want to know both the best score and best evenness. \n",
    "# Coverage will contribute to overall score, but no need to track it\n",
    "# To initialize these variables, uncomment.\n",
    "best_score = -1\n",
    "best_evenness = -1\n",
    "best_overall = -1\n",
    "\n",
    "#for n_neighbors in [100,1000,3000,7500]:\n",
    "for n_neighbors in [15,25,50]:\n",
    "    for n_components in [25,50]:\n",
    "        for min_dist in [0,0.25,0.5,0.75,1]:\n",
    "            # For each combination of parameters of umap\n",
    "            umap_embeddings = UMAP(n_neighbors=n_neighbors,\n",
    "                                   n_components=n_components,\n",
    "                                   min_dist=min_dist,\n",
    "                                   metric='cosine',\n",
    "                                   random_state=47).fit_transform(embeddings)\n",
    "            for min_cluster_size in [25,50,75,100,125,150,175,200,225,250]:\n",
    "                for min_samples in [10,20,30,40,50,60,70,80,90,100,110,120]:\n",
    "                    \n",
    "                    # For each combination of parameters in hdbscan\n",
    "                    hdb = hdbscan.HDBSCAN(min_cluster_size=min_cluster_size,\n",
    "                                          min_samples=min_samples,\n",
    "                                          cluster_selection_method='eom',\n",
    "                                          metric='euclidean',\n",
    "                                          gen_min_span_tree=True).fit(umap_embeddings)\n",
    "                    coverage = (len(hdb.labels_) - np.sum(hdb.labels_ == -1))/len(hdb.labels_)\n",
    "                    score = hdb.relative_validity_\n",
    "                    _,counts = np.unique(hdb.labels_,return_counts = True)\n",
    "                    evenness = 1 - ((np.max(counts[1:]) - np.min(counts[1:]))/(len(hdb.labels_)-2))\n",
    "                    #evenness = 1 - (np.std(counts[1:])/((len(hdb.labels_)/2)-1))\n",
    "                    overall = (1/3)*coverage + (1/3)*score + (1/3)*evenness\n",
    "\n",
    "                    if score > best_score:\n",
    "                        best_score = score\n",
    "                        best_score_params = {'n_neighbors': n_neighbors,\n",
    "                                             'n_components': n_components,\n",
    "                                             'min_dist': min_dist,\n",
    "                                             'min_cluster_size': min_cluster_size, \n",
    "                                             'min_samples':  min_samples}\n",
    "                        \n",
    "                    if evenness > best_evenness:\n",
    "                        best_evenness = evenness\n",
    "                        best_evenness_params = {'n_neighbors': n_neighbors,\n",
    "                                             'n_components': n_components,\n",
    "                                             'min_dist': min_dist,\n",
    "                                             'min_cluster_size': min_cluster_size, \n",
    "                                             'min_samples':  min_samples}\n",
    "\n",
    "                    if overall > best_overall:\n",
    "                        best_overall = overall\n",
    "                        best_overall_params = {'n_neighbors': n_neighbors,\n",
    "                                             'n_components': n_components,\n",
    "                                             'min_dist': min_dist,\n",
    "                                             'min_cluster_size': min_cluster_size, \n",
    "                                             'min_samples':  min_samples}\n",
    "\n",
    "\n",
    "print(\"Best DBCV score: {:.3f}\".format(best_score))\n",
    "print(\"Best DBCV parameters: {}\".format(best_score_params))\n",
    "print(\"Best evenness: {:.3f}\".format(best_evenness))\n",
    "print(\"Best evenness: {}\".format(best_evenness_params))\n",
    "print(\"Best overall score: {:.3f}\".format(best_overall))\n",
    "print(\"Best overall parameters: {}\".format(best_overall_params))"
   ]
  },
  {
   "cell_type": "markdown",
   "id": "6f305e96",
   "metadata": {},
   "source": [
    "# Topic Model"
   ]
  },
  {
   "cell_type": "code",
   "execution_count": 26,
   "id": "026def1c-2d31-452b-af78-4d3ce6c37173",
   "metadata": {},
   "outputs": [],
   "source": [
    "from sklearn.feature_extraction.text import CountVectorizer\n",
    "vectorizer_model = CountVectorizer(stop_words=\"english\", min_df=2, ngram_range=(1, 2))\n",
    "\n",
    "from bertopic.representation import KeyBERTInspired\n",
    "# Fine-tune your topic representations\n",
    "representation_model = KeyBERTInspired()\n",
    "\n",
    "#from bertopic import BERTopic\n",
    "#from bertopic.dimensionality import BaseDimensionalityReduction\n",
    "\n",
    "# Fit BERTopic without actually performing any dimensionality reduction\n",
    "#empty_dimensionality_model = BaseDimensionalityReduction()\n",
    "\n",
    "topic_model = BERTopic(embedding_model=embedding_model,\n",
    "                       umap_model=umap_model,\n",
    "                      hdbscan_model=hdbscan_model,\n",
    "                      vectorizer_model=vectorizer_model,\n",
    "                      representation_model=representation_model)\n",
    "topics, probs = topic_model.fit_transform(docs,embeddings)"
   ]
  },
  {
   "cell_type": "code",
   "execution_count": 54,
   "id": "c0dc551f-eaa0-4f7f-bc1a-42401a75059f",
   "metadata": {},
   "outputs": [
    {
     "data": {
      "text/html": [
       "<div>\n",
       "<style scoped>\n",
       "    .dataframe tbody tr th:only-of-type {\n",
       "        vertical-align: middle;\n",
       "    }\n",
       "\n",
       "    .dataframe tbody tr th {\n",
       "        vertical-align: top;\n",
       "    }\n",
       "\n",
       "    .dataframe thead th {\n",
       "        text-align: right;\n",
       "    }\n",
       "</style>\n",
       "<table border=\"1\" class=\"dataframe\">\n",
       "  <thead>\n",
       "    <tr style=\"text-align: right;\">\n",
       "      <th></th>\n",
       "      <th>Topic</th>\n",
       "      <th>Count</th>\n",
       "      <th>Name</th>\n",
       "      <th>Representation</th>\n",
       "      <th>Representative_Docs</th>\n",
       "    </tr>\n",
       "  </thead>\n",
       "  <tbody>\n",
       "    <tr>\n",
       "      <th>0</th>\n",
       "      <td>-1</td>\n",
       "      <td>7556</td>\n",
       "      <td>-1_public health_care_surveillance_prevalence</td>\n",
       "      <td>[public health, care, surveillance, prevalence...</td>\n",
       "      <td>[Abortion surveillance - United States, 2012 P...</td>\n",
       "    </tr>\n",
       "    <tr>\n",
       "      <th>1</th>\n",
       "      <td>0</td>\n",
       "      <td>3828</td>\n",
       "      <td>0_cov infection_vaccine effectiveness_influenz...</td>\n",
       "      <td>[cov infection, vaccine effectiveness, influen...</td>\n",
       "      <td>[Association Between mRNA Vaccination and COVI...</td>\n",
       "    </tr>\n",
       "    <tr>\n",
       "      <th>2</th>\n",
       "      <td>1</td>\n",
       "      <td>2931</td>\n",
       "      <td>1_antiretroviral therapy_chlamydia_sexually tr...</td>\n",
       "      <td>[antiretroviral therapy, chlamydia, sexually t...</td>\n",
       "      <td>[Low HIV testing rates among U.S. women who re...</td>\n",
       "    </tr>\n",
       "    <tr>\n",
       "      <th>3</th>\n",
       "      <td>2</td>\n",
       "      <td>903</td>\n",
       "      <td>2_occupational health_workplace_occupational s...</td>\n",
       "      <td>[occupational health, workplace, occupational ...</td>\n",
       "      <td>[Reducing risks to women linked to shift work,...</td>\n",
       "    </tr>\n",
       "    <tr>\n",
       "      <th>4</th>\n",
       "      <td>3</td>\n",
       "      <td>874</td>\n",
       "      <td>3_respirable dust_aerosols_sampling_respirable</td>\n",
       "      <td>[respirable dust, aerosols, sampling, respirab...</td>\n",
       "      <td>[Design and experimental evaluation of a flood...</td>\n",
       "    </tr>\n",
       "    <tr>\n",
       "      <th>5</th>\n",
       "      <td>4</td>\n",
       "      <td>868</td>\n",
       "      <td>4_phthalates_urinary concentrations_phthalate_...</td>\n",
       "      <td>[phthalates, urinary concentrations, phthalate...</td>\n",
       "      <td>[Phthalates and thyroid function in preschool ...</td>\n",
       "    </tr>\n",
       "    <tr>\n",
       "      <th>6</th>\n",
       "      <td>5</td>\n",
       "      <td>859</td>\n",
       "      <td>5_malaria cases_malaria transmission_malaria c...</td>\n",
       "      <td>[malaria cases, malaria transmission, malaria ...</td>\n",
       "      <td>[Malaria surveillance - United States, 2015 PR...</td>\n",
       "    </tr>\n",
       "    <tr>\n",
       "      <th>7</th>\n",
       "      <td>6</td>\n",
       "      <td>738</td>\n",
       "      <td>6_resistant tuberculosis_tuberculosis infectio...</td>\n",
       "      <td>[resistant tuberculosis, tuberculosis infectio...</td>\n",
       "      <td>[Prospects for tuberculosis elimination in the...</td>\n",
       "    </tr>\n",
       "    <tr>\n",
       "      <th>8</th>\n",
       "      <td>7</td>\n",
       "      <td>730</td>\n",
       "      <td>7_diabetes prevention_adults diabetes_type dia...</td>\n",
       "      <td>[diabetes prevention, adults diabetes, type di...</td>\n",
       "      <td>[Association of type 1 diabetes vs type 2 diab...</td>\n",
       "    </tr>\n",
       "    <tr>\n",
       "      <th>9</th>\n",
       "      <td>8</td>\n",
       "      <td>722</td>\n",
       "      <td>8_dengue virus_leptospirosis_leptospira_chikun...</td>\n",
       "      <td>[dengue virus, leptospirosis, leptospira, chik...</td>\n",
       "      <td>[Epidemiology of dengue, chikungunya, and Zika...</td>\n",
       "    </tr>\n",
       "    <tr>\n",
       "      <th>10</th>\n",
       "      <td>9</td>\n",
       "      <td>669</td>\n",
       "      <td>9_birth defects_stillbirths_obstetric_preterm ...</td>\n",
       "      <td>[birth defects, stillbirths, obstetric, preter...</td>\n",
       "      <td>[Association between infant mortality attribut...</td>\n",
       "    </tr>\n",
       "    <tr>\n",
       "      <th>11</th>\n",
       "      <td>10</td>\n",
       "      <td>603</td>\n",
       "      <td>10_antibiotic stewardship_antimicrobial stewar...</td>\n",
       "      <td>[antibiotic stewardship, antimicrobial steward...</td>\n",
       "      <td>[Core elements of outpatient antibiotic stewar...</td>\n",
       "    </tr>\n",
       "    <tr>\n",
       "      <th>12</th>\n",
       "      <td>11</td>\n",
       "      <td>587</td>\n",
       "      <td>11_opioid overdose_prescription opioids_drug o...</td>\n",
       "      <td>[opioid overdose, prescription opioids, drug o...</td>\n",
       "      <td>[Vital signs: Characteristics of drug overdose...</td>\n",
       "    </tr>\n",
       "    <tr>\n",
       "      <th>13</th>\n",
       "      <td>12</td>\n",
       "      <td>577</td>\n",
       "      <td>12_violence children_youth violence_partner vi...</td>\n",
       "      <td>[violence children, youth violence, partner vi...</td>\n",
       "      <td>[Prevalence and correlates of non-dating sexua...</td>\n",
       "    </tr>\n",
       "    <tr>\n",
       "      <th>14</th>\n",
       "      <td>13</td>\n",
       "      <td>569</td>\n",
       "      <td>13_influenza vaccine_influenza vaccines_vaccin...</td>\n",
       "      <td>[influenza vaccine, influenza vaccines, vaccin...</td>\n",
       "      <td>[A liposome-displayed hemagglutinin vaccine pl...</td>\n",
       "    </tr>\n",
       "    <tr>\n",
       "      <th>15</th>\n",
       "      <td>14</td>\n",
       "      <td>560</td>\n",
       "      <td>14_rotavirus vaccine_rotavirus vaccines_rotavi...</td>\n",
       "      <td>[rotavirus vaccine, rotavirus vaccines, rotavi...</td>\n",
       "      <td>[Early impact of rotavirus vaccine in under 5y...</td>\n",
       "    </tr>\n",
       "    <tr>\n",
       "      <th>16</th>\n",
       "      <td>15</td>\n",
       "      <td>559</td>\n",
       "      <td>15_tobacco use_tobacco products_adult tobacco_...</td>\n",
       "      <td>[tobacco use, tobacco products, adult tobacco,...</td>\n",
       "      <td>[Frequency of tobacco use among middle and hig...</td>\n",
       "    </tr>\n",
       "    <tr>\n",
       "      <th>17</th>\n",
       "      <td>16</td>\n",
       "      <td>538</td>\n",
       "      <td>16_health workforce_health departments_public ...</td>\n",
       "      <td>[health workforce, health departments, public ...</td>\n",
       "      <td>[Strategic development of the public health wo...</td>\n",
       "    </tr>\n",
       "    <tr>\n",
       "      <th>18</th>\n",
       "      <td>17</td>\n",
       "      <td>525</td>\n",
       "      <td>17_iron deficiency_folate concentrations_vitam...</td>\n",
       "      <td>[iron deficiency, folate concentrations, vitam...</td>\n",
       "      <td>[Micronutrient status in Jordan: 2002 and 2010...</td>\n",
       "    </tr>\n",
       "    <tr>\n",
       "      <th>19</th>\n",
       "      <td>18</td>\n",
       "      <td>522</td>\n",
       "      <td>18_injury prevention_violent death_injuries_fa...</td>\n",
       "      <td>[injury prevention, violent death, injuries, f...</td>\n",
       "      <td>[Surveillance for violent deaths - National Vi...</td>\n",
       "    </tr>\n",
       "    <tr>\n",
       "      <th>20</th>\n",
       "      <td>19</td>\n",
       "      <td>494</td>\n",
       "      <td>19_chronic hepatitis_hepatitis vaccine_viral h...</td>\n",
       "      <td>[chronic hepatitis, hepatitis vaccine, viral h...</td>\n",
       "      <td>[Hepatitis B virus infection and hepatitis C v...</td>\n",
       "    </tr>\n",
       "    <tr>\n",
       "      <th>21</th>\n",
       "      <td>20</td>\n",
       "      <td>484</td>\n",
       "      <td>20_tick borne_ticks collected_tick bite_ticks</td>\n",
       "      <td>[tick borne, ticks collected, tick bite, ticks...</td>\n",
       "      <td>[Barriers to effective tick management and tic...</td>\n",
       "    </tr>\n",
       "    <tr>\n",
       "      <th>22</th>\n",
       "      <td>21</td>\n",
       "      <td>472</td>\n",
       "      <td>21_aedes aegypti_insecticide resistance_anophe...</td>\n",
       "      <td>[aedes aegypti, insecticide resistance, anophe...</td>\n",
       "      <td>[Insecticide resistance status of Aedes aegypt...</td>\n",
       "    </tr>\n",
       "    <tr>\n",
       "      <th>23</th>\n",
       "      <td>22</td>\n",
       "      <td>433</td>\n",
       "      <td>22_emergency preparedness_health preparedness_...</td>\n",
       "      <td>[emergency preparedness, health preparedness, ...</td>\n",
       "      <td>[Community Assessment for Public Health Emerge...</td>\n",
       "    </tr>\n",
       "    <tr>\n",
       "      <th>24</th>\n",
       "      <td>23</td>\n",
       "      <td>400</td>\n",
       "      <td>23_asbestos_occupational exposure_coal workers...</td>\n",
       "      <td>[asbestos, occupational exposure, coal workers...</td>\n",
       "      <td>[Risk of cancer from occupational exposure to ...</td>\n",
       "    </tr>\n",
       "    <tr>\n",
       "      <th>25</th>\n",
       "      <td>24</td>\n",
       "      <td>379</td>\n",
       "      <td>24_cancer registries_cancer incidence_cancer p...</td>\n",
       "      <td>[cancer registries, cancer incidence, cancer p...</td>\n",
       "      <td>[Invasive cancer incidence and survival - Unit...</td>\n",
       "    </tr>\n",
       "    <tr>\n",
       "      <th>26</th>\n",
       "      <td>25</td>\n",
       "      <td>365</td>\n",
       "      <td>25_physical activity_intervention_intervention...</td>\n",
       "      <td>[physical activity, intervention, intervention...</td>\n",
       "      <td>[Actions to Improve Physical Activity Surveill...</td>\n",
       "    </tr>\n",
       "    <tr>\n",
       "      <th>27</th>\n",
       "      <td>26</td>\n",
       "      <td>353</td>\n",
       "      <td>26_polio vaccine_poliovirus vaccine_poliovirus...</td>\n",
       "      <td>[polio vaccine, poliovirus vaccine, poliovirus...</td>\n",
       "      <td>[Progress toward polio eradication - worldwide...</td>\n",
       "    </tr>\n",
       "    <tr>\n",
       "      <th>28</th>\n",
       "      <td>27</td>\n",
       "      <td>351</td>\n",
       "      <td>27_autism spectrum_developmental disabilities_...</td>\n",
       "      <td>[autism spectrum, developmental disabilities, ...</td>\n",
       "      <td>[Prevalence of autism spectrum disorder among ...</td>\n",
       "    </tr>\n",
       "    <tr>\n",
       "      <th>29</th>\n",
       "      <td>28</td>\n",
       "      <td>345</td>\n",
       "      <td>28_papillomavirus vaccination_human papillomav...</td>\n",
       "      <td>[papillomavirus vaccination, human papillomavi...</td>\n",
       "      <td>[Prevalence of human papillomavirus genotypes ...</td>\n",
       "    </tr>\n",
       "    <tr>\n",
       "      <th>30</th>\n",
       "      <td>29</td>\n",
       "      <td>345</td>\n",
       "      <td>29_invasive pneumococcal_pneumococcal disease_...</td>\n",
       "      <td>[invasive pneumococcal, pneumococcal disease, ...</td>\n",
       "      <td>[Characterization of pneumococcal meningitis b...</td>\n",
       "    </tr>\n",
       "    <tr>\n",
       "      <th>31</th>\n",
       "      <td>30</td>\n",
       "      <td>327</td>\n",
       "      <td>30_salmonella enterica_antimicrobial resistanc...</td>\n",
       "      <td>[salmonella enterica, antimicrobial resistance...</td>\n",
       "      <td>[Whole genome and core genome multilocus seque...</td>\n",
       "    </tr>\n",
       "    <tr>\n",
       "      <th>32</th>\n",
       "      <td>31</td>\n",
       "      <td>307</td>\n",
       "      <td>31_infection pregnancy_zikv infection_zika vir...</td>\n",
       "      <td>[infection pregnancy, zikv infection, zika vir...</td>\n",
       "      <td>[Pregnancy outcomes after maternal Zika virus ...</td>\n",
       "    </tr>\n",
       "    <tr>\n",
       "      <th>33</th>\n",
       "      <td>32</td>\n",
       "      <td>304</td>\n",
       "      <td>32_foodborne diseases_foodborne disease_foodbo...</td>\n",
       "      <td>[foodborne diseases, foodborne disease, foodbo...</td>\n",
       "      <td>[Vital signs: multistate foodborne outbreaks -...</td>\n",
       "    </tr>\n",
       "    <tr>\n",
       "      <th>34</th>\n",
       "      <td>33</td>\n",
       "      <td>293</td>\n",
       "      <td>33_household water_drinking water_water sanita...</td>\n",
       "      <td>[household water, drinking water, water sanita...</td>\n",
       "      <td>[Perceptions of drinking water safety and thei...</td>\n",
       "    </tr>\n",
       "    <tr>\n",
       "      <th>35</th>\n",
       "      <td>34</td>\n",
       "      <td>293</td>\n",
       "      <td>34_antifungal resistance_antifungal susceptibi...</td>\n",
       "      <td>[antifungal resistance, antifungal susceptibil...</td>\n",
       "      <td>[Notes from the Field: Transmission of Pan-Res...</td>\n",
       "    </tr>\n",
       "    <tr>\n",
       "      <th>36</th>\n",
       "      <td>35</td>\n",
       "      <td>282</td>\n",
       "      <td>35_child transmission_hiv infection_antenatal ...</td>\n",
       "      <td>[child transmission, hiv infection, antenatal ...</td>\n",
       "      <td>[High mortality in HIV-infected children diagn...</td>\n",
       "    </tr>\n",
       "    <tr>\n",
       "      <th>37</th>\n",
       "      <td>36</td>\n",
       "      <td>279</td>\n",
       "      <td>36_sodium intake_health nutrition_nutrition_nu...</td>\n",
       "      <td>[sodium intake, health nutrition, nutrition, n...</td>\n",
       "      <td>[Vital Signs: sodium intake among U.S. school-...</td>\n",
       "    </tr>\n",
       "    <tr>\n",
       "      <th>38</th>\n",
       "      <td>37</td>\n",
       "      <td>275</td>\n",
       "      <td>37_measles cases_measles surveillance_measles ...</td>\n",
       "      <td>[measles cases, measles surveillance, measles ...</td>\n",
       "      <td>[Feasibility of measles and rubella vaccinatio...</td>\n",
       "    </tr>\n",
       "    <tr>\n",
       "      <th>39</th>\n",
       "      <td>38</td>\n",
       "      <td>240</td>\n",
       "      <td>38_amebic meningoencephalitis_flaccid myelitis...</td>\n",
       "      <td>[amebic meningoencephalitis, flaccid myelitis,...</td>\n",
       "      <td>[Acute flaccid myelitis in the United States: ...</td>\n",
       "    </tr>\n",
       "    <tr>\n",
       "      <th>40</th>\n",
       "      <td>39</td>\n",
       "      <td>230</td>\n",
       "      <td>39_rabies prevention_rabies surveillance_rabie...</td>\n",
       "      <td>[rabies prevention, rabies surveillance, rabie...</td>\n",
       "      <td>[Defining county-level terrestrial rabies free...</td>\n",
       "    </tr>\n",
       "    <tr>\n",
       "      <th>41</th>\n",
       "      <td>40</td>\n",
       "      <td>214</td>\n",
       "      <td>40_screening rates_screening uptake_cancer scr...</td>\n",
       "      <td>[screening rates, screening uptake, cancer scr...</td>\n",
       "      <td>[From cancer screening to treatment: service d...</td>\n",
       "    </tr>\n",
       "    <tr>\n",
       "      <th>42</th>\n",
       "      <td>41</td>\n",
       "      <td>204</td>\n",
       "      <td>41_facepiece respirators_n95 respirators_respi...</td>\n",
       "      <td>[facepiece respirators, n95 respirators, respi...</td>\n",
       "      <td>[Fit evaluation of NIOSH Approved N95 filterin...</td>\n",
       "    </tr>\n",
       "    <tr>\n",
       "      <th>43</th>\n",
       "      <td>42</td>\n",
       "      <td>184</td>\n",
       "      <td>42_syringe services_immunodeficiency virus_hcv...</td>\n",
       "      <td>[syringe services, immunodeficiency virus, hcv...</td>\n",
       "      <td>[Estimating the number of persons who inject d...</td>\n",
       "    </tr>\n",
       "    <tr>\n",
       "      <th>44</th>\n",
       "      <td>43</td>\n",
       "      <td>181</td>\n",
       "      <td>43_ebola transmission_ebola cases_ebola outbre...</td>\n",
       "      <td>[ebola transmission, ebola cases, ebola outbre...</td>\n",
       "      <td>[Update: Ebola virus disease epidemic - West A...</td>\n",
       "    </tr>\n",
       "    <tr>\n",
       "      <th>45</th>\n",
       "      <td>44</td>\n",
       "      <td>177</td>\n",
       "      <td>44_avian influenza_pathogenic avian_influenza ...</td>\n",
       "      <td>[avian influenza, pathogenic avian, influenza ...</td>\n",
       "      <td>[Swine-origin H1 influenza viruses isolated fr...</td>\n",
       "    </tr>\n",
       "    <tr>\n",
       "      <th>46</th>\n",
       "      <td>45</td>\n",
       "      <td>175</td>\n",
       "      <td>45_environmental health_environmental public_n...</td>\n",
       "      <td>[environmental health, environmental public, n...</td>\n",
       "      <td>[A Millennial's Take on CDC's Environmental Pu...</td>\n",
       "    </tr>\n",
       "  </tbody>\n",
       "</table>\n",
       "</div>"
      ],
      "text/plain": [
       "    Topic  Count                                               Name  \\\n",
       "0      -1   7556      -1_public health_care_surveillance_prevalence   \n",
       "1       0   3828  0_cov infection_vaccine effectiveness_influenz...   \n",
       "2       1   2931  1_antiretroviral therapy_chlamydia_sexually tr...   \n",
       "3       2    903  2_occupational health_workplace_occupational s...   \n",
       "4       3    874     3_respirable dust_aerosols_sampling_respirable   \n",
       "5       4    868  4_phthalates_urinary concentrations_phthalate_...   \n",
       "6       5    859  5_malaria cases_malaria transmission_malaria c...   \n",
       "7       6    738  6_resistant tuberculosis_tuberculosis infectio...   \n",
       "8       7    730  7_diabetes prevention_adults diabetes_type dia...   \n",
       "9       8    722  8_dengue virus_leptospirosis_leptospira_chikun...   \n",
       "10      9    669  9_birth defects_stillbirths_obstetric_preterm ...   \n",
       "11     10    603  10_antibiotic stewardship_antimicrobial stewar...   \n",
       "12     11    587  11_opioid overdose_prescription opioids_drug o...   \n",
       "13     12    577  12_violence children_youth violence_partner vi...   \n",
       "14     13    569  13_influenza vaccine_influenza vaccines_vaccin...   \n",
       "15     14    560  14_rotavirus vaccine_rotavirus vaccines_rotavi...   \n",
       "16     15    559  15_tobacco use_tobacco products_adult tobacco_...   \n",
       "17     16    538  16_health workforce_health departments_public ...   \n",
       "18     17    525  17_iron deficiency_folate concentrations_vitam...   \n",
       "19     18    522  18_injury prevention_violent death_injuries_fa...   \n",
       "20     19    494  19_chronic hepatitis_hepatitis vaccine_viral h...   \n",
       "21     20    484      20_tick borne_ticks collected_tick bite_ticks   \n",
       "22     21    472  21_aedes aegypti_insecticide resistance_anophe...   \n",
       "23     22    433  22_emergency preparedness_health preparedness_...   \n",
       "24     23    400  23_asbestos_occupational exposure_coal workers...   \n",
       "25     24    379  24_cancer registries_cancer incidence_cancer p...   \n",
       "26     25    365  25_physical activity_intervention_intervention...   \n",
       "27     26    353  26_polio vaccine_poliovirus vaccine_poliovirus...   \n",
       "28     27    351  27_autism spectrum_developmental disabilities_...   \n",
       "29     28    345  28_papillomavirus vaccination_human papillomav...   \n",
       "30     29    345  29_invasive pneumococcal_pneumococcal disease_...   \n",
       "31     30    327  30_salmonella enterica_antimicrobial resistanc...   \n",
       "32     31    307  31_infection pregnancy_zikv infection_zika vir...   \n",
       "33     32    304  32_foodborne diseases_foodborne disease_foodbo...   \n",
       "34     33    293  33_household water_drinking water_water sanita...   \n",
       "35     34    293  34_antifungal resistance_antifungal susceptibi...   \n",
       "36     35    282  35_child transmission_hiv infection_antenatal ...   \n",
       "37     36    279  36_sodium intake_health nutrition_nutrition_nu...   \n",
       "38     37    275  37_measles cases_measles surveillance_measles ...   \n",
       "39     38    240  38_amebic meningoencephalitis_flaccid myelitis...   \n",
       "40     39    230  39_rabies prevention_rabies surveillance_rabie...   \n",
       "41     40    214  40_screening rates_screening uptake_cancer scr...   \n",
       "42     41    204  41_facepiece respirators_n95 respirators_respi...   \n",
       "43     42    184  42_syringe services_immunodeficiency virus_hcv...   \n",
       "44     43    181  43_ebola transmission_ebola cases_ebola outbre...   \n",
       "45     44    177  44_avian influenza_pathogenic avian_influenza ...   \n",
       "46     45    175  45_environmental health_environmental public_n...   \n",
       "\n",
       "                                       Representation  \\\n",
       "0   [public health, care, surveillance, prevalence...   \n",
       "1   [cov infection, vaccine effectiveness, influen...   \n",
       "2   [antiretroviral therapy, chlamydia, sexually t...   \n",
       "3   [occupational health, workplace, occupational ...   \n",
       "4   [respirable dust, aerosols, sampling, respirab...   \n",
       "5   [phthalates, urinary concentrations, phthalate...   \n",
       "6   [malaria cases, malaria transmission, malaria ...   \n",
       "7   [resistant tuberculosis, tuberculosis infectio...   \n",
       "8   [diabetes prevention, adults diabetes, type di...   \n",
       "9   [dengue virus, leptospirosis, leptospira, chik...   \n",
       "10  [birth defects, stillbirths, obstetric, preter...   \n",
       "11  [antibiotic stewardship, antimicrobial steward...   \n",
       "12  [opioid overdose, prescription opioids, drug o...   \n",
       "13  [violence children, youth violence, partner vi...   \n",
       "14  [influenza vaccine, influenza vaccines, vaccin...   \n",
       "15  [rotavirus vaccine, rotavirus vaccines, rotavi...   \n",
       "16  [tobacco use, tobacco products, adult tobacco,...   \n",
       "17  [health workforce, health departments, public ...   \n",
       "18  [iron deficiency, folate concentrations, vitam...   \n",
       "19  [injury prevention, violent death, injuries, f...   \n",
       "20  [chronic hepatitis, hepatitis vaccine, viral h...   \n",
       "21  [tick borne, ticks collected, tick bite, ticks...   \n",
       "22  [aedes aegypti, insecticide resistance, anophe...   \n",
       "23  [emergency preparedness, health preparedness, ...   \n",
       "24  [asbestos, occupational exposure, coal workers...   \n",
       "25  [cancer registries, cancer incidence, cancer p...   \n",
       "26  [physical activity, intervention, intervention...   \n",
       "27  [polio vaccine, poliovirus vaccine, poliovirus...   \n",
       "28  [autism spectrum, developmental disabilities, ...   \n",
       "29  [papillomavirus vaccination, human papillomavi...   \n",
       "30  [invasive pneumococcal, pneumococcal disease, ...   \n",
       "31  [salmonella enterica, antimicrobial resistance...   \n",
       "32  [infection pregnancy, zikv infection, zika vir...   \n",
       "33  [foodborne diseases, foodborne disease, foodbo...   \n",
       "34  [household water, drinking water, water sanita...   \n",
       "35  [antifungal resistance, antifungal susceptibil...   \n",
       "36  [child transmission, hiv infection, antenatal ...   \n",
       "37  [sodium intake, health nutrition, nutrition, n...   \n",
       "38  [measles cases, measles surveillance, measles ...   \n",
       "39  [amebic meningoencephalitis, flaccid myelitis,...   \n",
       "40  [rabies prevention, rabies surveillance, rabie...   \n",
       "41  [screening rates, screening uptake, cancer scr...   \n",
       "42  [facepiece respirators, n95 respirators, respi...   \n",
       "43  [syringe services, immunodeficiency virus, hcv...   \n",
       "44  [ebola transmission, ebola cases, ebola outbre...   \n",
       "45  [avian influenza, pathogenic avian, influenza ...   \n",
       "46  [environmental health, environmental public, n...   \n",
       "\n",
       "                                  Representative_Docs  \n",
       "0   [Abortion surveillance - United States, 2012 P...  \n",
       "1   [Association Between mRNA Vaccination and COVI...  \n",
       "2   [Low HIV testing rates among U.S. women who re...  \n",
       "3   [Reducing risks to women linked to shift work,...  \n",
       "4   [Design and experimental evaluation of a flood...  \n",
       "5   [Phthalates and thyroid function in preschool ...  \n",
       "6   [Malaria surveillance - United States, 2015 PR...  \n",
       "7   [Prospects for tuberculosis elimination in the...  \n",
       "8   [Association of type 1 diabetes vs type 2 diab...  \n",
       "9   [Epidemiology of dengue, chikungunya, and Zika...  \n",
       "10  [Association between infant mortality attribut...  \n",
       "11  [Core elements of outpatient antibiotic stewar...  \n",
       "12  [Vital signs: Characteristics of drug overdose...  \n",
       "13  [Prevalence and correlates of non-dating sexua...  \n",
       "14  [A liposome-displayed hemagglutinin vaccine pl...  \n",
       "15  [Early impact of rotavirus vaccine in under 5y...  \n",
       "16  [Frequency of tobacco use among middle and hig...  \n",
       "17  [Strategic development of the public health wo...  \n",
       "18  [Micronutrient status in Jordan: 2002 and 2010...  \n",
       "19  [Surveillance for violent deaths - National Vi...  \n",
       "20  [Hepatitis B virus infection and hepatitis C v...  \n",
       "21  [Barriers to effective tick management and tic...  \n",
       "22  [Insecticide resistance status of Aedes aegypt...  \n",
       "23  [Community Assessment for Public Health Emerge...  \n",
       "24  [Risk of cancer from occupational exposure to ...  \n",
       "25  [Invasive cancer incidence and survival - Unit...  \n",
       "26  [Actions to Improve Physical Activity Surveill...  \n",
       "27  [Progress toward polio eradication - worldwide...  \n",
       "28  [Prevalence of autism spectrum disorder among ...  \n",
       "29  [Prevalence of human papillomavirus genotypes ...  \n",
       "30  [Characterization of pneumococcal meningitis b...  \n",
       "31  [Whole genome and core genome multilocus seque...  \n",
       "32  [Pregnancy outcomes after maternal Zika virus ...  \n",
       "33  [Vital signs: multistate foodborne outbreaks -...  \n",
       "34  [Perceptions of drinking water safety and thei...  \n",
       "35  [Notes from the Field: Transmission of Pan-Res...  \n",
       "36  [High mortality in HIV-infected children diagn...  \n",
       "37  [Vital Signs: sodium intake among U.S. school-...  \n",
       "38  [Feasibility of measles and rubella vaccinatio...  \n",
       "39  [Acute flaccid myelitis in the United States: ...  \n",
       "40  [Defining county-level terrestrial rabies free...  \n",
       "41  [From cancer screening to treatment: service d...  \n",
       "42  [Fit evaluation of NIOSH Approved N95 filterin...  \n",
       "43  [Estimating the number of persons who inject d...  \n",
       "44  [Update: Ebola virus disease epidemic - West A...  \n",
       "45  [Swine-origin H1 influenza viruses isolated fr...  \n",
       "46  [A Millennial's Take on CDC's Environmental Pu...  "
      ]
     },
     "execution_count": 54,
     "metadata": {},
     "output_type": "execute_result"
    }
   ],
   "source": [
    "topic_model.get_topic_info()"
   ]
  },
  {
   "cell_type": "code",
   "execution_count": 166,
   "id": "c9cbba35-4a30-47e9-bcf2-f1b932e5309a",
   "metadata": {},
   "outputs": [],
   "source": [
    "topic_model.get_topic_info().to_csv('topics_fullSC_v5_bestoverall_SPECTER.csv')"
   ]
  },
  {
   "cell_type": "code",
   "execution_count": 167,
   "id": "2f4b0dd1-7f74-4142-bd90-195d64b4e53b",
   "metadata": {},
   "outputs": [],
   "source": [
    "topic_model.get_document_info(docs).to_csv('topics_for_docs_fullSC_v5_bestoverall_SPECTER.csv')"
   ]
  },
  {
   "cell_type": "code",
   "execution_count": 171,
   "id": "75f6a2ee-941b-4653-aabe-acaa66e51362",
   "metadata": {},
   "outputs": [],
   "source": [
    "topic_model.save(\"bestoverall_SPECTER_20240828\", serialization=\"safetensors\", save_ctfidf=True, save_embedding_model=embedding_model)"
   ]
  },
  {
   "cell_type": "code",
   "execution_count": 33,
   "id": "d6dd40d3-8ac8-4e7d-9b51-03897e46f177",
   "metadata": {},
   "outputs": [],
   "source": [
    "df_clips_reindex = df_clips.reset_index(drop=True)"
   ]
  },
  {
   "cell_type": "code",
   "execution_count": 34,
   "id": "7eaf3169-fbf9-4246-9496-9d5801aa1bd6",
   "metadata": {},
   "outputs": [
    {
     "name": "stdout",
     "output_type": "stream",
     "text": [
      "<class 'pandas.core.frame.DataFrame'>\n",
      "RangeIndex: 34104 entries, 0 to 34103\n",
      "Data columns (total 18 columns):\n",
      " #   Column                             Non-Null Count  Dtype         \n",
      "---  ------                             --------------  -----         \n",
      " 0   Authors                            34104 non-null  object        \n",
      " 1   CDC Authors                        34104 non-null  object        \n",
      " 2   Title                              34104 non-null  object        \n",
      " 3   Abstract                           34104 non-null  object        \n",
      " 4   Year                               34104 non-null  int64         \n",
      " 5   Journal                            34104 non-null  object        \n",
      " 6   Volume                             33508 non-null  object        \n",
      " 7   Issue                              29395 non-null  object        \n",
      " 8   Pages                              31925 non-null  object        \n",
      " 9   PMID                               32925 non-null  float64       \n",
      " 10  PMCID                              27132 non-null  object        \n",
      " 11  NIHMS                              874 non-null    object        \n",
      " 12  Preprint to final article linkage  913 non-null    object        \n",
      " 13  DOI                                33215 non-null  object        \n",
      " 14  URL                                34104 non-null  object        \n",
      " 15  Keywords                           32584 non-null  object        \n",
      " 16  Science Clips Headings             32829 non-null  object        \n",
      " 17  Date                               34104 non-null  datetime64[ns]\n",
      "dtypes: datetime64[ns](1), float64(1), int64(1), object(15)\n",
      "memory usage: 4.7+ MB\n"
     ]
    }
   ],
   "source": [
    "df_clips_reindex.info()"
   ]
  },
  {
   "cell_type": "code",
   "execution_count": 59,
   "id": "3aab13b5-6ae9-4552-9c93-6159da2ab235",
   "metadata": {},
   "outputs": [],
   "source": [
    "df_docs = pd.concat([df_clips_reindex,pd.DataFrame(topic_model.get_document_info(docs))],axis=1)"
   ]
  },
  {
   "cell_type": "code",
   "execution_count": 56,
   "id": "41b2af87-bbcb-4c64-b612-2b2175e78056",
   "metadata": {},
   "outputs": [
    {
     "name": "stdout",
     "output_type": "stream",
     "text": [
      "<class 'pandas.core.frame.DataFrame'>\n",
      "RangeIndex: 34104 entries, 0 to 34103\n",
      "Data columns (total 26 columns):\n",
      " #   Column                             Non-Null Count  Dtype         \n",
      "---  ------                             --------------  -----         \n",
      " 0   Authors                            34104 non-null  object        \n",
      " 1   CDC Authors                        34104 non-null  object        \n",
      " 2   Title                              34104 non-null  object        \n",
      " 3   Abstract                           34104 non-null  object        \n",
      " 4   Year                               34104 non-null  int64         \n",
      " 5   Journal                            34104 non-null  object        \n",
      " 6   Volume                             33508 non-null  object        \n",
      " 7   Issue                              29395 non-null  object        \n",
      " 8   Pages                              31925 non-null  object        \n",
      " 9   PMID                               32925 non-null  float64       \n",
      " 10  PMCID                              27132 non-null  object        \n",
      " 11  NIHMS                              874 non-null    object        \n",
      " 12  Preprint to final article linkage  913 non-null    object        \n",
      " 13  DOI                                33215 non-null  object        \n",
      " 14  URL                                34104 non-null  object        \n",
      " 15  Keywords                           32584 non-null  object        \n",
      " 16  Science Clips Headings             32829 non-null  object        \n",
      " 17  Date                               34104 non-null  datetime64[ns]\n",
      " 18  Document                           34104 non-null  object        \n",
      " 19  Topic                              34104 non-null  int64         \n",
      " 20  Name                               34104 non-null  object        \n",
      " 21  Representation                     34104 non-null  object        \n",
      " 22  Representative_Docs                34104 non-null  object        \n",
      " 23  Top_n_words                        34104 non-null  object        \n",
      " 24  Probability                        34104 non-null  float64       \n",
      " 25  Representative_document            34104 non-null  bool          \n",
      "dtypes: bool(1), datetime64[ns](1), float64(2), int64(2), object(20)\n",
      "memory usage: 6.5+ MB\n"
     ]
    }
   ],
   "source": [
    "df_docs.info()"
   ]
  },
  {
   "cell_type": "code",
   "execution_count": 176,
   "id": "75177388-ec2f-4dce-98a3-df6bccc6f264",
   "metadata": {},
   "outputs": [],
   "source": [
    "df_docs.to_excel('ScienceClips_with_Topics_bestoverall_nneigh25_2014-2023_forImpact.xlsx')"
   ]
  },
  {
   "cell_type": "markdown",
   "id": "fec92e55",
   "metadata": {},
   "source": [
    "# Get 2D Embeddings:"
   ]
  },
  {
   "cell_type": "code",
   "execution_count": null,
   "id": "7a16860a",
   "metadata": {},
   "outputs": [],
   "source": [
    "# The only difference between this model and the previous one is that this model uses only 2 components.\n",
    "umap_model = UMAP(n_neighbors=25, n_components=2, min_dist=0.0, metric='cosine', random_state=47)\n",
    "umap_embeddings = umap_model.fit_transform(embeddings)"
   ]
  },
  {
   "cell_type": "code",
   "execution_count": 29,
   "id": "40815922-a3a2-4db3-b80f-242056806540",
   "metadata": {},
   "outputs": [],
   "source": [
    "df_embeddings = pd.DataFrame(umap_embeddings,columns=['UMAP 1', 'UMAP 2'])"
   ]
  },
  {
   "cell_type": "code",
   "execution_count": 57,
   "id": "547933cf-1c57-4bda-a382-2425f6c18a53",
   "metadata": {},
   "outputs": [
    {
     "data": {
      "text/html": [
       "<div>\n",
       "<style scoped>\n",
       "    .dataframe tbody tr th:only-of-type {\n",
       "        vertical-align: middle;\n",
       "    }\n",
       "\n",
       "    .dataframe tbody tr th {\n",
       "        vertical-align: top;\n",
       "    }\n",
       "\n",
       "    .dataframe thead th {\n",
       "        text-align: right;\n",
       "    }\n",
       "</style>\n",
       "<table border=\"1\" class=\"dataframe\">\n",
       "  <thead>\n",
       "    <tr style=\"text-align: right;\">\n",
       "      <th></th>\n",
       "      <th>UMAP 1</th>\n",
       "      <th>UMAP 2</th>\n",
       "    </tr>\n",
       "  </thead>\n",
       "  <tbody>\n",
       "    <tr>\n",
       "      <th>0</th>\n",
       "      <td>2.637221</td>\n",
       "      <td>5.079272</td>\n",
       "    </tr>\n",
       "    <tr>\n",
       "      <th>1</th>\n",
       "      <td>9.508604</td>\n",
       "      <td>0.321237</td>\n",
       "    </tr>\n",
       "    <tr>\n",
       "      <th>2</th>\n",
       "      <td>11.176594</td>\n",
       "      <td>-1.294658</td>\n",
       "    </tr>\n",
       "    <tr>\n",
       "      <th>3</th>\n",
       "      <td>2.078050</td>\n",
       "      <td>0.166428</td>\n",
       "    </tr>\n",
       "    <tr>\n",
       "      <th>4</th>\n",
       "      <td>3.117112</td>\n",
       "      <td>-2.922476</td>\n",
       "    </tr>\n",
       "  </tbody>\n",
       "</table>\n",
       "</div>"
      ],
      "text/plain": [
       "      UMAP 1    UMAP 2\n",
       "0   2.637221  5.079272\n",
       "1   9.508604  0.321237\n",
       "2  11.176594 -1.294658\n",
       "3   2.078050  0.166428\n",
       "4   3.117112 -2.922476"
      ]
     },
     "execution_count": 57,
     "metadata": {},
     "output_type": "execute_result"
    }
   ],
   "source": [
    "df_embeddings.head()"
   ]
  },
  {
   "cell_type": "code",
   "execution_count": 60,
   "id": "50b4471e-b9e3-456d-9505-dea7ed6c0ee4",
   "metadata": {},
   "outputs": [],
   "source": [
    "df_embeddings = pd.concat([pd.DataFrame(topic_model.get_document_info(docs)),df_embeddings],axis=1)"
   ]
  },
  {
   "cell_type": "code",
   "execution_count": 61,
   "id": "50bbd19e-914d-4bb3-be90-1c887c734f8f",
   "metadata": {},
   "outputs": [
    {
     "name": "stdout",
     "output_type": "stream",
     "text": [
      "<class 'pandas.core.frame.DataFrame'>\n",
      "RangeIndex: 34104 entries, 0 to 34103\n",
      "Data columns (total 10 columns):\n",
      " #   Column                   Non-Null Count  Dtype  \n",
      "---  ------                   --------------  -----  \n",
      " 0   Document                 34104 non-null  object \n",
      " 1   Topic                    34104 non-null  int64  \n",
      " 2   Name                     34104 non-null  object \n",
      " 3   Representation           34104 non-null  object \n",
      " 4   Representative_Docs      34104 non-null  object \n",
      " 5   Top_n_words              34104 non-null  object \n",
      " 6   Probability              34104 non-null  float64\n",
      " 7   Representative_document  34104 non-null  bool   \n",
      " 8   UMAP 1                   34104 non-null  float32\n",
      " 9   UMAP 2                   34104 non-null  float32\n",
      "dtypes: bool(1), float32(2), float64(1), int64(1), object(5)\n",
      "memory usage: 2.1+ MB\n"
     ]
    }
   ],
   "source": [
    "df_embeddings.info()"
   ]
  },
  {
   "cell_type": "code",
   "execution_count": 62,
   "id": "1be12ed6-4ebd-4c4d-b392-94820f271e76",
   "metadata": {},
   "outputs": [],
   "source": [
    "df_embeddings.to_excel('Embeddings_Visualizations_BestOverall.xlsx')"
   ]
  },
  {
   "cell_type": "code",
   "execution_count": null,
   "id": "bc2629a9-b4e2-4e45-86fc-823add240e36",
   "metadata": {},
   "outputs": [],
   "source": []
  }
 ],
 "metadata": {
  "kernelspec": {
   "display_name": "Python 3 (ipykernel)",
   "language": "python",
   "name": "python3"
  },
  "language_info": {
   "codemirror_mode": {
    "name": "ipython",
    "version": 3
   },
   "file_extension": ".py",
   "mimetype": "text/x-python",
   "name": "python",
   "nbconvert_exporter": "python",
   "pygments_lexer": "ipython3",
   "version": "3.9.7"
  }
 },
 "nbformat": 4,
 "nbformat_minor": 5
}
