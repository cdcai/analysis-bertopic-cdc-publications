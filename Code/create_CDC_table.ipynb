{
 "cells": [
  {
   "cell_type": "markdown",
   "id": "02abce81",
   "metadata": {},
   "source": [
    "# Merge topic labels, Altmetric, and BMJ data to create full table\n",
    "\n",
    "We are using a reduced version of our Science Clips + topics dataset here due to file size restrictions in GitHub. This version has all necessary fields to replicate our analyses, but does not include every field present in Science Clips. For a full version, please contact us.\n",
    "\n",
    "## Import Libraries:"
   ]
  },
  {
   "cell_type": "code",
   "execution_count": null,
   "id": "95405e77",
   "metadata": {},
   "outputs": [],
   "source": [
    "import pandas as pd\n",
    "import numpy as np\n",
    "import os\n",
    "\n",
    "# Set to display all columns\n",
    "pd.set_option('display.max_columns', None)\n",
    "\n",
    "# Change working directory to one folder up\n",
    "os.chdir('..')\n",
    "\n",
    "# Print working directory\n",
    "print(os.getcwd())"
   ]
  },
  {
   "cell_type": "markdown",
   "id": "f7d9d9b5",
   "metadata": {},
   "source": [
    "## Import and clean Science Clips:"
   ]
  },
  {
   "cell_type": "code",
   "execution_count": null,
   "id": "0714d6d4",
   "metadata": {},
   "outputs": [],
   "source": [
    "# Science Clips with Topic Info\n",
    "df_clips = pd.read_excel('Data/ScienceClips_with_Topics_bestoverall_nneigh25_2014-2023_forImpact_reduced.xlsx')"
   ]
  },
  {
   "cell_type": "code",
   "execution_count": null,
   "id": "92229eda",
   "metadata": {},
   "outputs": [],
   "source": [
    "df_clips.info()"
   ]
  },
  {
   "cell_type": "code",
   "execution_count": null,
   "id": "2720f5b4",
   "metadata": {},
   "outputs": [],
   "source": [
    "df_clips['SC_ID'] = df_clips.index\n",
    "\n",
    "df_clips['DOI'] = df_clips['DOI'].str.lower()"
   ]
  },
  {
   "cell_type": "markdown",
   "id": "cd304ce1",
   "metadata": {},
   "source": [
    "## Import topic label table:"
   ]
  },
  {
   "cell_type": "code",
   "execution_count": null,
   "id": "0b758a10",
   "metadata": {},
   "outputs": [],
   "source": [
    "df_topics = pd.read_excel('Data/Reviews_FinalLabels.xlsx')"
   ]
  },
  {
   "cell_type": "code",
   "execution_count": null,
   "id": "5f430073",
   "metadata": {},
   "outputs": [],
   "source": [
    "df_topics.info()"
   ]
  },
  {
   "cell_type": "code",
   "execution_count": null,
   "id": "064afb36",
   "metadata": {},
   "outputs": [],
   "source": [
    "# Remove unnecessary columns\n",
    "df_topics = df_topics.drop(labels=[\"Topic Model's Top Words\",'Reviewer A',\n",
    "                                   'Reviewer B','Reviewer C',\n",
    "                                   'Reviewer D','Stage 1 Label',\n",
    "                                   'Stage 2 Notes'],axis=1)"
   ]
  },
  {
   "cell_type": "code",
   "execution_count": null,
   "id": "c046d95c",
   "metadata": {},
   "outputs": [],
   "source": [
    "df_topics.rename(columns={'Topic Label': 'Topic'},inplace=True)"
   ]
  },
  {
   "cell_type": "code",
   "execution_count": null,
   "id": "ddacdd7e",
   "metadata": {},
   "outputs": [],
   "source": [
    "df_topics"
   ]
  },
  {
   "cell_type": "code",
   "execution_count": null,
   "id": "8715090e",
   "metadata": {},
   "outputs": [],
   "source": [
    "df_clips = pd.merge(df_clips,df_topics,on='Topic',how='left')"
   ]
  },
  {
   "cell_type": "code",
   "execution_count": null,
   "id": "819f1a1d",
   "metadata": {},
   "outputs": [],
   "source": [
    "df_clips.info()"
   ]
  },
  {
   "cell_type": "markdown",
   "id": "6be11329",
   "metadata": {},
   "source": [
    "## Import and clean Altmetric:"
   ]
  },
  {
   "cell_type": "code",
   "execution_count": null,
   "id": "1de97713",
   "metadata": {},
   "outputs": [],
   "source": [
    "df_altmetric = pd.read_excel('Data/Altmetric_accessed20240702_ScienceClips_accessed20240503_2014to2023.xlsx')"
   ]
  },
  {
   "cell_type": "code",
   "execution_count": null,
   "id": "cdb624da",
   "metadata": {},
   "outputs": [],
   "source": [
    "# Remove unnecessary columns\n",
    "df_altmetric = df_altmetric.drop(labels=['Title','Journal/Collection Title','Journal ISSNs',\n",
    "                              'Authors at my Institution','Departments','Output Type', 'OA Status',\n",
    "                              'OA Type','Subjects (FoR)','Sustainable Development Goals','Affiliations (GRID)',\n",
    "                              'Funder','Publication Date','ISBN','National Clinical Trial ID','URI',\n",
    "                              'PubMedCentral ID','Handle.net IDs','ADS Bibcode','arXiv ID','RePEc ID',\n",
    "                              'SSRN','URN','Blog mentions','Patent mentions','Peer review mentions','Weibo mentions',\n",
    "                              'Facebook mentions','Wikipedia mentions','Google+ mentions','LinkedIn mentions',\n",
    "                              'Reddit mentions','Pinterest mentions','F1000 mentions','Q&A mentions',\n",
    "                              'Video mentions','Syllabi mentions','Number of Mendeley readers',\n",
    "                               'Publisher Names'],axis=1)"
   ]
  },
  {
   "cell_type": "code",
   "execution_count": null,
   "id": "1816f076",
   "metadata": {},
   "outputs": [],
   "source": [
    "# Rename PubMed ID column\n",
    "df_altmetric.rename(columns={'PubMed ID': 'PMID','Policy mentions': 'Altmetric Policy mentions'}, inplace=True)"
   ]
  },
  {
   "cell_type": "markdown",
   "id": "bc3fe3b4",
   "metadata": {},
   "source": [
    "## These Altmetric records are removed because they are duplicates:\n",
    "Many of these duplicates are due to a change in PMID post-publication. Because two records with a unique Altmetric URL exist for the same publication, we chose the record with either (1) the most correct bibliographic information (DOI, PMID, Title, etc.), or, when both were equally correct, the record with the highest Altmetric attention score.\n",
    "\n",
    "To test what it looks like if these URLs are not removed, do not run the cell below and see the duplicates created on merge with the main table."
   ]
  },
  {
   "cell_type": "code",
   "execution_count": null,
   "id": "bb528e99",
   "metadata": {},
   "outputs": [],
   "source": [
    "remove_urls = ['https://www.altmetric.com/details/2460916',\n",
    "              'https://www.altmetric.com/details/6712833',\n",
    "              'https://www.altmetric.com/details/6713065',\n",
    "              'https://www.altmetric.com/details/14762020',\n",
    "              'https://www.altmetric.com/details/41015948',\n",
    "              'https://www.altmetric.com/details/41015945',\n",
    "              'https://www.altmetric.com/details/41015944',\n",
    "              'https://www.altmetric.com/details/41015942',\n",
    "              'https://www.altmetric.com/details/12000508',\n",
    "              'https://www.altmetric.com/details/4208056',\n",
    "              'https://www.altmetric.com/details/22679365',\n",
    "              'https://www.altmetric.com/details/11996441',\n",
    "              'https://www.altmetric.com/details/3760221',\n",
    "              'https://www.altmetric.com/details/15866609',\n",
    "              'https://www.altmetric.com/details/15874433',\n",
    "              'https://www.altmetric.com/details/113432092',\n",
    "              'https://www.altmetric.com/details/11996302',\n",
    "              'https://www.altmetric.com/details/44228405',\n",
    "              'https://www.altmetric.com/details/19899273',\n",
    "              'https://www.altmetric.com/details/19793094',\n",
    "              'https://www.altmetric.com/details/2594934',\n",
    "              'https://www.altmetric.com/details/11996487',\n",
    "              'https://www.altmetric.com/details/19793092',\n",
    "              'https://www.altmetric.com/details/12228387',\n",
    "              'https://www.altmetric.com/details/6714320',\n",
    "              'https://www.altmetric.com/details/12444508',\n",
    "              'https://www.altmetric.com/details/6714459',\n",
    "              'https://www.altmetric.com/details/6714468',\n",
    "              'https://www.altmetric.com/details/11745451',\n",
    "              'https://www.altmetric.com/details/11994899',\n",
    "              'https://www.altmetric.com/details/3061859',\n",
    "              'https://www.altmetric.com/details/18272059',\n",
    "              'https://www.altmetric.com/details/6712649',\n",
    "              'https://www.altmetric.com/details/4761732',\n",
    "              'https://www.altmetric.com/details/29052938',\n",
    "              'https://www.altmetric.com/details/21747200',\n",
    "              'https://www.altmetric.com/details/12449299',\n",
    "              'https://www.altmetric.com/details/3546001',\n",
    "              'https://www.altmetric.com/details/3729747',\n",
    "              'https://www.altmetric.com/details/11993397',\n",
    "              'https://www.altmetric.com/details/11997229',\n",
    "              'https://www.altmetric.com/details/37586218',\n",
    "              'https://www.altmetric.com/details/24445294',\n",
    "              'https://www.altmetric.com/details/12456140',\n",
    "              'https://www.altmetric.com/details/155195492',\n",
    "              'https://www.altmetric.com/details/19579352',\n",
    "              'https://www.altmetric.com/details/103891563',\n",
    "              'https://www.altmetric.com/details/11978738',\n",
    "              'https://www.altmetric.com/details/11978736',\n",
    "              'https://www.altmetric.com/details/16217542',\n",
    "              'https://www.altmetric.com/details/12444530',\n",
    "              'https://www.altmetric.com/details/10324728',\n",
    "              'https://www.altmetric.com/details/20650948',\n",
    "              'https://www.altmetric.com/details/6331974',\n",
    "              'https://www.altmetric.com/details/6010348',\n",
    "              'https://www.altmetric.com/details/5303217',\n",
    "              'https://www.altmetric.com/details/5098748',\n",
    "              'https://www.altmetric.com/details/155195479',\n",
    "              'https://www.altmetric.com/details/119534275',\n",
    "              'https://www.altmetric.com/details/19622778',\n",
    "              'https://www.altmetric.com/details/51863610',\n",
    "              'https://www.altmetric.com/details/39378434',\n",
    "              'https://www.altmetric.com/details/46545368',\n",
    "              'https://www.altmetric.com/details/68322443',\n",
    "              'https://www.altmetric.com/details/155195485',\n",
    "              'https://www.altmetric.com/details/57528224',\n",
    "              'https://www.altmetric.com/details/93847762']"
   ]
  },
  {
   "cell_type": "code",
   "execution_count": null,
   "id": "b3638148",
   "metadata": {},
   "outputs": [],
   "source": [
    "df_altmetric = df_altmetric[~df_altmetric['Details Page URL'].isin(remove_urls)]"
   ]
  },
  {
   "cell_type": "code",
   "execution_count": null,
   "id": "affe69c3",
   "metadata": {},
   "outputs": [],
   "source": [
    "df_altmetric.info()"
   ]
  },
  {
   "cell_type": "markdown",
   "id": "bf62f074",
   "metadata": {},
   "source": [
    "## Import BMJ Impact Analytics data:"
   ]
  },
  {
   "cell_type": "code",
   "execution_count": null,
   "id": "8271c33e",
   "metadata": {},
   "outputs": [],
   "source": [
    "df_bmj = pd.read_excel('Data/BMJ_accessed20240702_ScienceClips_accessed20240503_2014to2023.xlsx')"
   ]
  },
  {
   "cell_type": "code",
   "execution_count": null,
   "id": "90bc9460",
   "metadata": {},
   "outputs": [],
   "source": [
    "df_bmj.info()"
   ]
  },
  {
   "cell_type": "code",
   "execution_count": null,
   "id": "07bd28c0",
   "metadata": {},
   "outputs": [],
   "source": [
    "# Remove unnecessary columns\n",
    "df_bmj = df_bmj.drop(labels=['Title','Journal','Published on','Type','Publisher','Authors','Your tags',\n",
    "                            'ORCIDs'],axis=1)"
   ]
  },
  {
   "cell_type": "code",
   "execution_count": null,
   "id": "e34c6dc4",
   "metadata": {},
   "outputs": [],
   "source": [
    "df_bmj.rename(columns={'Policy citation count': 'BMJ Policy citation count'},inplace=True)"
   ]
  },
  {
   "cell_type": "code",
   "execution_count": null,
   "id": "c48bf6c5",
   "metadata": {},
   "outputs": [],
   "source": [
    "df_bmj.head()"
   ]
  },
  {
   "cell_type": "code",
   "execution_count": null,
   "id": "09e8d44b",
   "metadata": {},
   "outputs": [],
   "source": [
    "df_bmj['DOI'] = df_bmj['DOI'].str.lower()"
   ]
  },
  {
   "cell_type": "markdown",
   "id": "93158ce8",
   "metadata": {},
   "source": [
    "## Merge Altmetric data:"
   ]
  },
  {
   "cell_type": "code",
   "execution_count": null,
   "id": "d2548462",
   "metadata": {},
   "outputs": [],
   "source": [
    "df_doi = pd.merge(df_clips,df_altmetric[df_altmetric['DOI'].notna()],on='DOI',how='left')"
   ]
  },
  {
   "cell_type": "code",
   "execution_count": null,
   "id": "ec321f74",
   "metadata": {},
   "outputs": [],
   "source": [
    "df_doi.info()"
   ]
  },
  {
   "cell_type": "code",
   "execution_count": null,
   "id": "7719a071",
   "metadata": {},
   "outputs": [],
   "source": [
    "# Rename PMID column\n",
    "df_doi.rename(columns={'PMID_x': 'PMID'}, inplace=True)\n",
    "\n",
    "# Remove other PMID column\n",
    "df_doi = df_doi.drop('PMID_y',axis=1)"
   ]
  },
  {
   "cell_type": "markdown",
   "id": "718c5183",
   "metadata": {},
   "source": [
    "## The cell below was used to test where duplicate records exist in Altmetric.\n",
    "\n",
    "This is empty because duplicates were removed using the remove_url list above."
   ]
  },
  {
   "cell_type": "code",
   "execution_count": null,
   "id": "df4f8945",
   "metadata": {},
   "outputs": [],
   "source": [
    "df_doi[df_doi.duplicated(subset='SC_ID',keep=False)]"
   ]
  },
  {
   "cell_type": "markdown",
   "id": "3682e2b4",
   "metadata": {},
   "source": [
    "For this data frame (df_doi), we want to remove any rows that did not match on DOI. We also want to remove rows that did match from the df_altmetric data frame."
   ]
  },
  {
   "cell_type": "code",
   "execution_count": null,
   "id": "d343634a",
   "metadata": {},
   "outputs": [],
   "source": [
    "df_doi = df_doi[df_doi['Details Page URL'].notna()]"
   ]
  },
  {
   "cell_type": "code",
   "execution_count": null,
   "id": "6ca1467e",
   "metadata": {},
   "outputs": [],
   "source": [
    "df_doi.info()"
   ]
  },
  {
   "cell_type": "code",
   "execution_count": null,
   "id": "77ce1e1d",
   "metadata": {},
   "outputs": [],
   "source": [
    "df_altmetric = df_altmetric[~df_altmetric['Details Page URL'].isin(df_doi['Details Page URL'])]"
   ]
  },
  {
   "cell_type": "code",
   "execution_count": null,
   "id": "01f23bb1",
   "metadata": {},
   "outputs": [],
   "source": [
    "df_altmetric.info()"
   ]
  },
  {
   "cell_type": "markdown",
   "id": "fe79d32c",
   "metadata": {},
   "source": [
    "Now, we'll merge on PMID for the remaining Altmetric data:"
   ]
  },
  {
   "cell_type": "code",
   "execution_count": null,
   "id": "0ed69a07",
   "metadata": {},
   "outputs": [],
   "source": [
    "df_pmid = pd.merge(df_clips,df_altmetric[df_altmetric['PMID'].notna()],on='PMID',how='left')"
   ]
  },
  {
   "cell_type": "code",
   "execution_count": null,
   "id": "d1c6c638",
   "metadata": {},
   "outputs": [],
   "source": [
    "# Rename DOI column\n",
    "df_pmid.rename(columns={'DOI_x': 'DOI'}, inplace=True)\n",
    "\n",
    "# Remove other PMID column\n",
    "df_pmid = df_pmid.drop('DOI_y',axis=1)"
   ]
  },
  {
   "cell_type": "code",
   "execution_count": null,
   "id": "8709ceff",
   "metadata": {},
   "outputs": [],
   "source": [
    "df_pmid = df_pmid[df_pmid['Details Page URL'].notna()]"
   ]
  },
  {
   "cell_type": "code",
   "execution_count": null,
   "id": "58b1c157",
   "metadata": {},
   "outputs": [],
   "source": [
    "df_pmid.info()"
   ]
  },
  {
   "cell_type": "markdown",
   "id": "601adc3b",
   "metadata": {},
   "source": [
    "## The cell below was used to test where duplicate records exist in Altmetric.\n",
    "\n",
    "This is empty because duplicates were removed using the remove_url list above."
   ]
  },
  {
   "cell_type": "code",
   "execution_count": null,
   "id": "f2012b64",
   "metadata": {},
   "outputs": [],
   "source": [
    "df_pmid[df_pmid.duplicated(subset='SC_ID',keep=False)]"
   ]
  },
  {
   "cell_type": "code",
   "execution_count": null,
   "id": "c4eb08c4",
   "metadata": {},
   "outputs": [],
   "source": [
    "df_cdc = pd.concat([df_doi,df_pmid],ignore_index=True)"
   ]
  },
  {
   "cell_type": "code",
   "execution_count": null,
   "id": "d48ccaa4",
   "metadata": {},
   "outputs": [],
   "source": [
    "df_cdc.info()"
   ]
  },
  {
   "cell_type": "code",
   "execution_count": null,
   "id": "9ea12770",
   "metadata": {},
   "outputs": [],
   "source": [
    "df_cdc[df_cdc.duplicated(subset='SC_ID',keep=False)]"
   ]
  },
  {
   "cell_type": "markdown",
   "id": "0bf7ebdc",
   "metadata": {},
   "source": [
    "Currently, our CDC data frame only contains papers for which we have Altmetric data. We need to add the Science Clips entries with missing Altmetric data. We can do this by manipulating the Science Clips data frame:"
   ]
  },
  {
   "cell_type": "code",
   "execution_count": null,
   "id": "259910cb",
   "metadata": {},
   "outputs": [],
   "source": [
    "df_clips = df_clips[~df_clips['SC_ID'].isin(df_cdc['SC_ID'])]"
   ]
  },
  {
   "cell_type": "code",
   "execution_count": null,
   "id": "c53d3de5",
   "metadata": {},
   "outputs": [],
   "source": [
    "df_clips.info()"
   ]
  },
  {
   "cell_type": "code",
   "execution_count": null,
   "id": "64ee0bbe",
   "metadata": {},
   "outputs": [],
   "source": [
    "df_cdc = pd.concat([df_cdc,df_clips],ignore_index=True)"
   ]
  },
  {
   "cell_type": "code",
   "execution_count": null,
   "id": "cb93cd22",
   "metadata": {},
   "outputs": [],
   "source": [
    "df_cdc.info()"
   ]
  },
  {
   "cell_type": "code",
   "execution_count": null,
   "id": "2c144687",
   "metadata": {},
   "outputs": [],
   "source": [
    "df_cdc[df_cdc.duplicated(subset='SC_ID',keep=False)]"
   ]
  },
  {
   "cell_type": "markdown",
   "id": "e1e60841",
   "metadata": {},
   "source": [
    "## Merge BMJ Impact Analytics data to CDC table:"
   ]
  },
  {
   "cell_type": "code",
   "execution_count": null,
   "id": "9016ba26",
   "metadata": {},
   "outputs": [],
   "source": [
    "df_cdc = pd.merge(df_cdc,df_bmj,on='DOI',how='left')"
   ]
  },
  {
   "cell_type": "code",
   "execution_count": null,
   "id": "1120a5be",
   "metadata": {},
   "outputs": [],
   "source": [
    "df_cdc.info()"
   ]
  },
  {
   "cell_type": "code",
   "execution_count": null,
   "id": "942d37b8",
   "metadata": {},
   "outputs": [],
   "source": [
    "# None of these publications match to a valid DOI in our dataset. Because BMJ Impact Analytics does not return PMIDs\n",
    "# it will be difficult to determine why this is. These DOIs likely came from our search by PMID and BMJ's record\n",
    "# likely has a PMID/DOI mismatch.\n",
    "df_bmj[~df_bmj['DOI'].isin(df_cdc['DOI'])]"
   ]
  },
  {
   "cell_type": "code",
   "execution_count": null,
   "id": "524096ea",
   "metadata": {},
   "outputs": [],
   "source": [
    "# Replace NaNs in BMJ Policy citation count with 0\n",
    "df_cdc.fillna(value={'BMJ Policy citation count': 0},inplace=True)\n",
    "\n",
    "# Remove SC_ID column\n",
    "df_cdc = df_cdc.drop(labels='SC_ID',axis=1)"
   ]
  },
  {
   "cell_type": "code",
   "execution_count": null,
   "id": "8350d09a",
   "metadata": {},
   "outputs": [],
   "source": [
    "df_cdc.to_csv('Data/FullTable_CDC_Cleaned.csv',index=False)"
   ]
  },
  {
   "cell_type": "code",
   "execution_count": null,
   "id": "58a07689",
   "metadata": {},
   "outputs": [],
   "source": []
  }
 ],
 "metadata": {
  "kernelspec": {
   "display_name": "Python 3",
   "language": "python",
   "name": "python3"
  },
  "language_info": {
   "codemirror_mode": {
    "name": "ipython",
    "version": 3
   },
   "file_extension": ".py",
   "mimetype": "text/x-python",
   "name": "python",
   "nbconvert_exporter": "python",
   "pygments_lexer": "ipython3",
   "version": "3.11.0"
  }
 },
 "nbformat": 4,
 "nbformat_minor": 5
}
