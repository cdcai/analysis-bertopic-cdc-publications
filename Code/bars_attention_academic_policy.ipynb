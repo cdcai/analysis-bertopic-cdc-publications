{
 "cells": [
  {
   "cell_type": "markdown",
   "id": "a0f78caa",
   "metadata": {},
   "source": [
    "# Generating stacked bars\n",
    "\n",
    "First, I will need to determine what range of years I should use for academic citations and policy citations.\n",
    "\n",
    "Then, I want to generate a figure with stacked bars.\n",
    "\n",
    "## Import libraries:"
   ]
  },
  {
   "cell_type": "code",
   "execution_count": null,
   "id": "d5c970eb",
   "metadata": {},
   "outputs": [],
   "source": [
    "import pandas as pd\n",
    "import numpy as np\n",
    "import os\n",
    "\n",
    "# Plotting libraries:\n",
    "import plotly.graph_objs as go\n",
    "import plotly.figure_factory as ff\n",
    "import kaleido\n",
    "\n",
    "# Set to display all columns\n",
    "pd.set_option('display.max_columns', None)\n",
    "\n",
    "# Change working directory to one folder up\n",
    "os.chdir('..')\n",
    "\n",
    "# Print working directory\n",
    "print(os.getcwd())"
   ]
  },
  {
   "cell_type": "markdown",
   "id": "6542b352",
   "metadata": {},
   "source": [
    "## Import data:"
   ]
  },
  {
   "cell_type": "code",
   "execution_count": null,
   "id": "53095541",
   "metadata": {},
   "outputs": [],
   "source": [
    "df_cdc = pd.read_csv('Data/FullTable_CDC_Cleaned.csv',low_memory=False)"
   ]
  },
  {
   "cell_type": "code",
   "execution_count": null,
   "id": "c631725d",
   "metadata": {},
   "outputs": [],
   "source": [
    "df_cdc.info()"
   ]
  },
  {
   "cell_type": "code",
   "execution_count": null,
   "id": "ce8d7fa8",
   "metadata": {},
   "outputs": [],
   "source": [
    "# Fill NAs:\n",
    "df_cdc['Altmetric Attention Score'].fillna(0,inplace=True)\n",
    "df_cdc['Altmetric Policy mentions'].fillna(0,inplace=True)\n",
    "df_cdc['Number of Dimensions citations'].fillna(0,inplace=True)\n",
    "df_cdc['BMJ Policy citation count'].fillna(0,inplace=True)"
   ]
  },
  {
   "cell_type": "code",
   "execution_count": null,
   "id": "36c82e3d",
   "metadata": {},
   "outputs": [],
   "source": [
    "df_cdc.groupby('Year').describe(percentiles=[0.025,0.5,0.975])"
   ]
  },
  {
   "cell_type": "code",
   "execution_count": null,
   "id": "73af5550",
   "metadata": {},
   "outputs": [],
   "source": [
    "df_cdc.groupby('Year').describe()['Number of Dimensions citations']['50%']"
   ]
  },
  {
   "cell_type": "code",
   "execution_count": null,
   "id": "46fbee8d",
   "metadata": {},
   "outputs": [],
   "source": [
    "np.unique(df_cdc['Year'])"
   ]
  },
  {
   "cell_type": "code",
   "execution_count": null,
   "id": "639d3c5a",
   "metadata": {},
   "outputs": [],
   "source": [
    "x = list(np.unique(df_cdc['Year']))\n",
    "y = list(df_cdc.groupby('Year').describe()['Number of Dimensions citations']['mean'])\n",
    "y_upper = list(df_cdc.groupby('Year').describe(percentiles=[0.025,0.5,0.975])\n",
    "               ['Number of Dimensions citations']['2.5%'])\n",
    "y_lower = list(df_cdc.groupby('Year').describe(percentiles=[0.025,0.5,0.975])\n",
    "               ['Number of Dimensions citations']['97.5%'])\n",
    "\n",
    "\n",
    "fig = go.Figure([\n",
    "    go.Scatter(\n",
    "        x=x,\n",
    "        y=y,\n",
    "        line=dict(color='rgb(0,100,80)'),\n",
    "        mode='lines',\n",
    "        name='Mean'\n",
    "    ),\n",
    "    go.Scatter(\n",
    "        x=x+x[::-1], # x, then x reversed\n",
    "        y=y_upper+y_lower[::-1], # upper, then lower reversed\n",
    "        fill='toself',\n",
    "        fillcolor='rgba(0,100,80,0.2)',\n",
    "        line=dict(color='rgba(255,255,255,0)'),\n",
    "        hoverinfo=\"skip\",\n",
    "        name='95% CI'\n",
    "    )\n",
    "])\n",
    "\n",
    "fig.update_xaxes(range=[min(x),max(x)],\n",
    "                title_text = 'Year',\n",
    "                tickvals = [2014,2015,2016,2017,2018,2019,2020,2021,2022,2023])\n",
    "\n",
    "fig.update_yaxes(title_text='Academic Citations')\n",
    "\n",
    "fig.show()"
   ]
  },
  {
   "cell_type": "code",
   "execution_count": null,
   "id": "3f133d57",
   "metadata": {},
   "outputs": [],
   "source": [
    "fig.write_image('Results/SuppFig1A_AcademicCitationsByYear.pdf')"
   ]
  },
  {
   "cell_type": "code",
   "execution_count": null,
   "id": "a96e772d",
   "metadata": {},
   "outputs": [],
   "source": [
    "x = list(np.unique(df_cdc['Year']))\n",
    "y = list(df_cdc.groupby('Year').describe()['Altmetric Policy mentions']['mean'])\n",
    "y_upper = list(df_cdc.groupby('Year').describe(percentiles=[0.025,0.5,0.975])\n",
    "               ['Altmetric Policy mentions']['2.5%'])\n",
    "y_lower = list(df_cdc.groupby('Year').describe(percentiles=[0.025,0.5,0.975])\n",
    "               ['Altmetric Policy mentions']['97.5%'])\n",
    "\n",
    "\n",
    "fig = go.Figure([\n",
    "    go.Scatter(\n",
    "        x=x,\n",
    "        y=y,\n",
    "        line=dict(color='rgb(0,100,80)'),\n",
    "        mode='lines',\n",
    "        name='Mean'\n",
    "    ),\n",
    "    go.Scatter(\n",
    "        x=x+x[::-1], # x, then x reversed\n",
    "        y=y_upper+y_lower[::-1], # upper, then lower reversed\n",
    "        fill='toself',\n",
    "        fillcolor='rgba(0,100,80,0.2)',\n",
    "        line=dict(color='rgba(255,255,255,0)'),\n",
    "        hoverinfo=\"skip\",\n",
    "        name='95% CI'\n",
    "    )\n",
    "])\n",
    "\n",
    "fig.update_xaxes(range=[min(x),max(x)],\n",
    "                title_text='Year',\n",
    "                tickvals = [2014,2015,2016,2017,2018,2019,2020,2021,2022,2023])\n",
    "\n",
    "fig.update_yaxes(title_text='Altmetric Policy Mentions')\n",
    "\n",
    "fig.show()"
   ]
  },
  {
   "cell_type": "code",
   "execution_count": null,
   "id": "e942e9bd",
   "metadata": {},
   "outputs": [],
   "source": [
    "fig.write_image('Results/SuppFig1B_AltmetricPolicyByYear.pdf')"
   ]
  },
  {
   "cell_type": "code",
   "execution_count": null,
   "id": "63a4c88e",
   "metadata": {},
   "outputs": [],
   "source": [
    "x = list(np.unique(df_cdc['Year']))\n",
    "y = list(df_cdc.groupby('Year').describe()['BMJ Policy citation count']['mean'])\n",
    "y_upper = list(df_cdc.groupby('Year').describe(percentiles=[0.025,0.5,0.975])\n",
    "               ['BMJ Policy citation count']['2.5%'])\n",
    "y_lower = list(df_cdc.groupby('Year').describe(percentiles=[0.025,0.5,0.975])\n",
    "               ['BMJ Policy citation count']['97.5%'])\n",
    "\n",
    "\n",
    "fig = go.Figure([\n",
    "    go.Scatter(\n",
    "        x=x,\n",
    "        y=y,\n",
    "        line=dict(color='rgb(0,100,80)'),\n",
    "        mode='lines',\n",
    "        name='Mean'\n",
    "    ),\n",
    "    go.Scatter(\n",
    "        x=x+x[::-1], # x, then x reversed\n",
    "        y=y_upper+y_lower[::-1], # upper, then lower reversed\n",
    "        fill='toself',\n",
    "        fillcolor='rgba(0,100,80,0.2)',\n",
    "        line=dict(color='rgba(255,255,255,0)'),\n",
    "        hoverinfo=\"skip\",\n",
    "        showlegend=True,\n",
    "        name='95% CI'\n",
    "    )\n",
    "])\n",
    "\n",
    "fig.update_xaxes(range=[min(x),max(x)],\n",
    "                title_text='Year',\n",
    "                tickvals = [2014,2015,2016,2017,2018,2019,2020,2021,2022,2023])\n",
    "\n",
    "fig.update_yaxes(title_text='BMJ Policy Citations')\n",
    "\n",
    "fig.show()"
   ]
  },
  {
   "cell_type": "code",
   "execution_count": null,
   "id": "b40fb338",
   "metadata": {},
   "outputs": [],
   "source": [
    "fig.write_image('Results/SuppFig1C_BMJPolicyByYear.pdf')"
   ]
  },
  {
   "cell_type": "code",
   "execution_count": null,
   "id": "1e594bc8",
   "metadata": {},
   "outputs": [],
   "source": [
    "## Stacked Bars:\n",
    "\n",
    "# Any Attention (%)\n",
    "# Any Academic (%)\n",
    "# Any Policy (%)\n",
    "\n",
    "\n",
    "# To calc these percents, let's fill NAs:\n",
    "100*sum(df_cdc['Altmetric Attention Score'] > 0)/len(df_cdc)"
   ]
  },
  {
   "cell_type": "code",
   "execution_count": null,
   "id": "163a7dca",
   "metadata": {},
   "outputs": [],
   "source": [
    "100*sum(df_cdc['Altmetric Attention Score'] > 0)/sum(df_cdc['Details Page URL'].notna())"
   ]
  },
  {
   "cell_type": "code",
   "execution_count": null,
   "id": "31ba948b",
   "metadata": {},
   "outputs": [],
   "source": [
    "sum(df_cdc['Altmetric Attention Score'] > 0)"
   ]
  },
  {
   "cell_type": "code",
   "execution_count": null,
   "id": "0703d4d9",
   "metadata": {},
   "outputs": [],
   "source": [
    "# Only look at older publications for academic and policy citations:\n",
    "\n",
    "df_older = df_cdc[df_cdc['Year'] <= 2020]"
   ]
  },
  {
   "cell_type": "code",
   "execution_count": null,
   "id": "9acb5765",
   "metadata": {},
   "outputs": [],
   "source": [
    "df_older['All Policy'] = df_older['Altmetric Policy mentions'] + df_older['BMJ Policy citation count']"
   ]
  },
  {
   "cell_type": "code",
   "execution_count": null,
   "id": "e70a104c",
   "metadata": {},
   "outputs": [],
   "source": [
    "100*sum(df_older['All Policy'] > 0)/len(df_older)"
   ]
  },
  {
   "cell_type": "code",
   "execution_count": null,
   "id": "291c3715",
   "metadata": {},
   "outputs": [],
   "source": [
    "sum(df_older['All Policy'] > 0)"
   ]
  },
  {
   "cell_type": "code",
   "execution_count": null,
   "id": "3f010a2d",
   "metadata": {},
   "outputs": [],
   "source": [
    "100*sum(df_older['Number of Dimensions citations'] > 0)/len(df_older)"
   ]
  },
  {
   "cell_type": "code",
   "execution_count": null,
   "id": "9769aa34",
   "metadata": {},
   "outputs": [],
   "source": [
    "sum(df_older['Number of Dimensions citations'] > 0)"
   ]
  },
  {
   "cell_type": "code",
   "execution_count": null,
   "id": "465ca320",
   "metadata": {},
   "outputs": [],
   "source": [
    "100*sum(df_older['Number of Dimensions citations'] > 0)/sum(df_older['Details Page URL'].notna())"
   ]
  },
  {
   "cell_type": "code",
   "execution_count": null,
   "id": "fe3bb029",
   "metadata": {},
   "outputs": [],
   "source": [
    "print(len(df_cdc))\n",
    "print(len(df_older))"
   ]
  },
  {
   "cell_type": "code",
   "execution_count": null,
   "id": "3291dea7",
   "metadata": {},
   "outputs": [],
   "source": [
    "metrics = ['Attention (2014-2023)',\n",
    "           'Policy Citations (2014-2020)',\n",
    "           'Academic Citations (2014-2020)']\n",
    "\n",
    "attention = 100*sum(df_cdc['Altmetric Attention Score'] > 0)/len(df_cdc)\n",
    "academic = 100*sum(df_older['Number of Dimensions citations'] > 0)/len(df_older)\n",
    "policy = 100*sum(df_older['All Policy'] > 0)/len(df_older)\n",
    "\n",
    "fig = go.Figure(data=[\n",
    "    go.Bar(name='Any', y=metrics, x=[attention, policy, academic],\n",
    "           text=[str(round(attention))+\"%\", str(round(policy))+\"%\", str(round(academic))+\"%\"],orientation='h'),\n",
    "    go.Bar(name='None', y=metrics, x=[100-attention,100-policy,100-academic],orientation='h')\n",
    "])\n",
    "# Change the bar mode\n",
    "\n",
    "fig.update_xaxes(title_text='% of Publications',\n",
    "                range=[0,100])\n",
    "\n",
    "fig.update_layout(barmode='stack')\n",
    "\n",
    "fig.show()"
   ]
  },
  {
   "cell_type": "code",
   "execution_count": null,
   "id": "c54e1d78",
   "metadata": {},
   "outputs": [],
   "source": [
    "fig.write_image('Results/Fig1_StackedBars.pdf')"
   ]
  }
 ],
 "metadata": {
  "kernelspec": {
   "display_name": "Python 3",
   "language": "python",
   "name": "python3"
  },
  "language_info": {
   "codemirror_mode": {
    "name": "ipython",
    "version": 3
   },
   "file_extension": ".py",
   "mimetype": "text/x-python",
   "name": "python",
   "nbconvert_exporter": "python",
   "pygments_lexer": "ipython3",
   "version": "3.11.0"
  }
 },
 "nbformat": 4,
 "nbformat_minor": 5
}
