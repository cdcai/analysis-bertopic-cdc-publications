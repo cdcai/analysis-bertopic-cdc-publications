{
 "cells": [
  {
   "cell_type": "markdown",
   "id": "743cfa72",
   "metadata": {},
   "source": [
    "# Create Topic Table:\n",
    "\n",
    "Simple Table: This will list all the topics in order of largest to smallest clusters.\n",
    "Advanced Table: This will additionally list median attention, median policy citations, and median academic citations.\n",
    "\n",
    "## Import libraries:"
   ]
  },
  {
   "cell_type": "code",
   "execution_count": null,
   "id": "e1ed75ba",
   "metadata": {},
   "outputs": [],
   "source": [
    "import pandas as pd\n",
    "import numpy as np\n",
    "import os\n",
    "\n",
    "# Plotting libraries:\n",
    "import plotly.graph_objs as go\n",
    "import plotly.figure_factory as ff\n",
    "\n",
    "# Set to display all columns\n",
    "pd.set_option('display.max_columns', None)\n",
    "\n",
    "# Change working directory to one folder up\n",
    "os.chdir('..')\n",
    "\n",
    "# Print working directory\n",
    "print(os.getcwd())"
   ]
  },
  {
   "cell_type": "markdown",
   "id": "eddedc76",
   "metadata": {},
   "source": [
    "## Import data:"
   ]
  },
  {
   "cell_type": "code",
   "execution_count": null,
   "id": "674ef747",
   "metadata": {},
   "outputs": [],
   "source": [
    "df_cdc = pd.read_csv('Data/FullTable_CDC_Cleaned.csv')"
   ]
  },
  {
   "cell_type": "code",
   "execution_count": null,
   "id": "55f754ba",
   "metadata": {},
   "outputs": [],
   "source": [
    "df_cdc.info()"
   ]
  },
  {
   "cell_type": "code",
   "execution_count": null,
   "id": "cc820cb2",
   "metadata": {},
   "outputs": [],
   "source": [
    "# Fill NAs:\n",
    "df_cdc['Altmetric Attention Score'].fillna(0,inplace=True)\n",
    "df_cdc['Altmetric Policy mentions'].fillna(0,inplace=True)\n",
    "df_cdc['Number of Dimensions citations'].fillna(0,inplace=True)\n",
    "df_cdc['BMJ Policy citation count'].fillna(0,inplace=True)"
   ]
  },
  {
   "cell_type": "code",
   "execution_count": null,
   "id": "b4098d08",
   "metadata": {},
   "outputs": [],
   "source": [
    "df_cdc['Year'].value_counts()"
   ]
  },
  {
   "cell_type": "code",
   "execution_count": null,
   "id": "ad8ea994",
   "metadata": {},
   "outputs": [],
   "source": [
    "df_cdc.groupby('Final Label').describe()"
   ]
  },
  {
   "cell_type": "code",
   "execution_count": null,
   "id": "f2dc76e6",
   "metadata": {},
   "outputs": [],
   "source": [
    "simple_data = {#'Topic Name': df_cdc.groupby('Final Label').describe().index,\n",
    "    '# of Publications': df_cdc.groupby('Final Label').describe()['Year']['count'].astype(int)}"
   ]
  },
  {
   "cell_type": "code",
   "execution_count": null,
   "id": "fa32718c",
   "metadata": {},
   "outputs": [],
   "source": [
    "df_simple = pd.DataFrame(simple_data).sort_values('# of Publications',ascending=False)"
   ]
  },
  {
   "cell_type": "code",
   "execution_count": null,
   "id": "5c071249",
   "metadata": {},
   "outputs": [],
   "source": [
    "clustered_total = pd.DataFrame([sum(df_cdc.groupby('Final Label').describe()['Year']['count'].astype(int))],\n",
    "                               columns=['# of Publications'],\n",
    "                               index=['Total - Clustered'])"
   ]
  },
  {
   "cell_type": "code",
   "execution_count": null,
   "id": "a9fa3855",
   "metadata": {},
   "outputs": [],
   "source": [
    "unclustered_total = pd.DataFrame([sum(df_cdc['Final Label'].isna())],\n",
    "                                 columns=['# of Publications'],\n",
    "                                 index=['Total - Unclustered'])"
   ]
  },
  {
   "cell_type": "code",
   "execution_count": null,
   "id": "e7f87b96",
   "metadata": {},
   "outputs": [],
   "source": [
    "total = pd.DataFrame([len(df_cdc)],\n",
    "                     columns=['# of Publications'],\n",
    "                     index=['Total'])"
   ]
  },
  {
   "cell_type": "code",
   "execution_count": null,
   "id": "da0a5e34",
   "metadata": {},
   "outputs": [],
   "source": [
    "df_simple = pd.concat([df_simple,clustered_total,unclustered_total,total])"
   ]
  },
  {
   "cell_type": "code",
   "execution_count": null,
   "id": "8408377f",
   "metadata": {},
   "outputs": [],
   "source": [
    "df_simple"
   ]
  },
  {
   "cell_type": "code",
   "execution_count": null,
   "id": "2e78d929",
   "metadata": {},
   "outputs": [],
   "source": [
    "df_simple['% of Publications'] = round(100*df_simple['# of Publications']/len(df_cdc),1)"
   ]
  },
  {
   "cell_type": "code",
   "execution_count": null,
   "id": "92840604",
   "metadata": {},
   "outputs": [],
   "source": [
    "df_simple"
   ]
  },
  {
   "cell_type": "code",
   "execution_count": null,
   "id": "26903b82",
   "metadata": {},
   "outputs": [],
   "source": [
    "df_simple.to_excel('Results/topics_table_simple.xlsx')"
   ]
  },
  {
   "cell_type": "markdown",
   "id": "8c313c1d",
   "metadata": {},
   "source": [
    "## Add median AAS:"
   ]
  },
  {
   "cell_type": "code",
   "execution_count": null,
   "id": "fa3b45ae",
   "metadata": {},
   "outputs": [],
   "source": [
    "df_advanced = df_simple"
   ]
  },
  {
   "cell_type": "code",
   "execution_count": null,
   "id": "aefcca7b",
   "metadata": {},
   "outputs": [],
   "source": [
    "df_advanced['Median AAS'] = df_cdc.groupby('Final Label').describe()['Altmetric Attention Score']['50%']"
   ]
  },
  {
   "cell_type": "code",
   "execution_count": null,
   "id": "c70d7af1",
   "metadata": {},
   "outputs": [],
   "source": [
    "df_advanced"
   ]
  },
  {
   "cell_type": "code",
   "execution_count": null,
   "id": "bac15d7b",
   "metadata": {},
   "outputs": [],
   "source": [
    "df_advanced.loc['Total - Clustered','Median AAS'] = np.median(df_cdc[\n",
    "    df_cdc['Final Label'].notna()]['Altmetric Attention Score'])"
   ]
  },
  {
   "cell_type": "code",
   "execution_count": null,
   "id": "0ca3c595",
   "metadata": {},
   "outputs": [],
   "source": [
    "df_advanced.loc['Total - Unclustered','Median AAS'] = np.median(df_cdc[\n",
    "    df_cdc['Final Label'].isna()]['Altmetric Attention Score'])"
   ]
  },
  {
   "cell_type": "code",
   "execution_count": null,
   "id": "e1315679",
   "metadata": {},
   "outputs": [],
   "source": [
    "df_advanced.loc['Total','Median AAS'] = np.median(df_cdc['Altmetric Attention Score'])"
   ]
  },
  {
   "cell_type": "code",
   "execution_count": null,
   "id": "e0856ddd",
   "metadata": {},
   "outputs": [],
   "source": [
    "df_advanced"
   ]
  },
  {
   "cell_type": "code",
   "execution_count": null,
   "id": "e7a5f8d8",
   "metadata": {},
   "outputs": [],
   "source": [
    "df_advanced.sort_values('Median AAS',ascending=False)"
   ]
  },
  {
   "cell_type": "markdown",
   "id": "da07fe80",
   "metadata": {},
   "source": [
    "## Thoughts:\n",
    "\n",
    "For the advanced table, we might run into some issues. Specifically, the year ranges for academic and policy citations will be different than the year range for attention and the total topic #s... It may make the table too messy. We can do supplement tables that report academic and policy.\n",
    "\n",
    "For consideration, the advanced main table can still report median attention, so let's see what that looks like (above)."
   ]
  },
  {
   "cell_type": "code",
   "execution_count": null,
   "id": "78525708",
   "metadata": {},
   "outputs": [],
   "source": [
    "#df_advanced['Median Academic Citations'] = df_cdc.groupby('Final Label').describe()['Number of Dimensions citations']['50%']"
   ]
  },
  {
   "cell_type": "code",
   "execution_count": null,
   "id": "53002d79",
   "metadata": {},
   "outputs": [],
   "source": [
    "df_older = df_cdc[df_cdc['Year'] <= 2020]"
   ]
  },
  {
   "cell_type": "code",
   "execution_count": null,
   "id": "1321fb50",
   "metadata": {},
   "outputs": [],
   "source": [
    "academic = pd.DataFrame(df_older.groupby('Final Label').describe()['Number of Dimensions citations']['50%'])"
   ]
  },
  {
   "cell_type": "code",
   "execution_count": null,
   "id": "92920fce",
   "metadata": {},
   "outputs": [],
   "source": [
    "academic.sort_values('50%',ascending=False)"
   ]
  },
  {
   "cell_type": "code",
   "execution_count": null,
   "id": "e8a6ec83",
   "metadata": {},
   "outputs": [],
   "source": [
    "df_advanced['Median Academic Citations'] = df_older.groupby('Final Label').describe()['Number of Dimensions citations']['50%']\n",
    "\n",
    "df_advanced.loc['Total - Clustered','Median Academic Citations'] = np.median(df_older[\n",
    "    df_older['Final Label'].notna()]['Number of Dimensions citations'])\n",
    "\n",
    "df_advanced.loc['Total - Unclustered','Median Academic Citations'] = np.median(df_older[\n",
    "    df_older['Final Label'].isna()]['Number of Dimensions citations'])\n",
    "\n",
    "df_advanced.loc['Total','Median Academic Citations'] = np.median(df_older['Number of Dimensions citations'])"
   ]
  },
  {
   "cell_type": "code",
   "execution_count": null,
   "id": "38d8fbe5",
   "metadata": {},
   "outputs": [],
   "source": [
    "df_advanced"
   ]
  },
  {
   "cell_type": "code",
   "execution_count": null,
   "id": "d9c15a28",
   "metadata": {},
   "outputs": [],
   "source": [
    "any_academic = pd.DataFrame(df_older['Number of Dimensions citations'].ne(0).groupby(df_older['Final Label']).value_counts().unstack())\n",
    "\n",
    "any_academic['Total'] = any_academic[False] + any_academic[True]\n",
    "any_academic['Any %'] = any_academic[True]/any_academic['Total']\n",
    "\n",
    "any_academic.sort_values('Any %',ascending=False)"
   ]
  },
  {
   "cell_type": "code",
   "execution_count": null,
   "id": "4f834388",
   "metadata": {},
   "outputs": [],
   "source": [
    "# So that flag for has policy citations works:\n",
    "df_older['All Policy'] = df_older['Altmetric Policy mentions'] + df_older['BMJ Policy citation count']"
   ]
  },
  {
   "cell_type": "code",
   "execution_count": null,
   "id": "53fea710",
   "metadata": {},
   "outputs": [],
   "source": [
    "policy = pd.DataFrame(df_older.groupby('Final Label').describe()['BMJ Policy citation count']['50%'])"
   ]
  },
  {
   "cell_type": "code",
   "execution_count": null,
   "id": "cfea4906",
   "metadata": {},
   "outputs": [],
   "source": [
    "policy.sort_values('50%',ascending=False)"
   ]
  },
  {
   "cell_type": "code",
   "execution_count": null,
   "id": "76c05de1",
   "metadata": {},
   "outputs": [],
   "source": [
    "any_policy = pd.DataFrame(df_older['All Policy'].ne(0).groupby(df_older['Final Label']).value_counts().unstack())"
   ]
  },
  {
   "cell_type": "code",
   "execution_count": null,
   "id": "03f0eeeb",
   "metadata": {},
   "outputs": [],
   "source": [
    "any_policy['Total'] = any_policy[False] + any_policy[True]\n",
    "any_policy['Any %'] = any_policy[True]/any_policy['Total']\n",
    "\n",
    "any_policy.sort_values('Any %',ascending=False)"
   ]
  },
  {
   "cell_type": "code",
   "execution_count": null,
   "id": "41c93b77",
   "metadata": {},
   "outputs": [],
   "source": [
    "df_advanced['% with Policy Citations'] = any_policy['Any %']\n",
    "\n",
    "df_advanced.loc['Total - Clustered','% with Policy Citations'] = sum(df_older[\n",
    "    df_older['Final Label'].notna()]['All Policy'] > 0)/len(df_older[df_older['Final Label'].notna()])\n",
    "\n",
    "df_advanced.loc['Total - Unclustered','% with Policy Citations'] = sum(df_older[\n",
    "    df_older['Final Label'].isna()]['All Policy'] > 0)/len(df_older[df_older['Final Label'].isna()])\n",
    "\n",
    "df_advanced.loc['Total','% with Policy Citations'] = sum(df_older['All Policy'] > 0)/len(df_older)"
   ]
  },
  {
   "cell_type": "code",
   "execution_count": null,
   "id": "0d388ddc",
   "metadata": {},
   "outputs": [],
   "source": [
    "df_advanced"
   ]
  },
  {
   "cell_type": "code",
   "execution_count": null,
   "id": "b4168582",
   "metadata": {},
   "outputs": [],
   "source": [
    "df_advanced.to_excel('Results/topic_table_advanced.xlsx')"
   ]
  },
  {
   "cell_type": "code",
   "execution_count": null,
   "id": "7dc1d017",
   "metadata": {},
   "outputs": [],
   "source": []
  }
 ],
 "metadata": {
  "kernelspec": {
   "display_name": "Python 3",
   "language": "python",
   "name": "python3"
  },
  "language_info": {
   "codemirror_mode": {
    "name": "ipython",
    "version": 3
   },
   "file_extension": ".py",
   "mimetype": "text/x-python",
   "name": "python",
   "nbconvert_exporter": "python",
   "pygments_lexer": "ipython3",
   "version": "3.11.0"
  }
 },
 "nbformat": 4,
 "nbformat_minor": 5
}
