{
 "cells": [
  {
   "cell_type": "code",
   "execution_count": null,
   "id": "f2bd42d5",
   "metadata": {},
   "outputs": [],
   "source": [
    "import pandas as pd\n",
    "import numpy as np\n",
    "import plotly.express as px\n",
    "import plotly.graph_objects as go\n",
    "import os\n",
    "import random\n",
    "\n",
    "# Other plotting libraries\n",
    "import kaleido\n",
    "import colorcet as cc\n",
    "from colorcet.plotting import swatch, swatches\n",
    "import holoviews as hv\n",
    "hv.extension('matplotlib')\n",
    "\n",
    "import matplotlib\n",
    "\n",
    "# Set to display all columns\n",
    "pd.set_option('display.max_columns', None)\n",
    "\n",
    "# Change working directory to one folder up\n",
    "os.chdir('..')\n",
    "\n",
    "# Print working directory\n",
    "print(os.getcwd())"
   ]
  },
  {
   "cell_type": "code",
   "execution_count": null,
   "id": "30416630",
   "metadata": {},
   "outputs": [],
   "source": [
    "df_embeddings = pd.read_excel('Data/Embeddings_Visualizations_BestOverall.xlsx')"
   ]
  },
  {
   "cell_type": "code",
   "execution_count": null,
   "id": "669ca286",
   "metadata": {},
   "outputs": [],
   "source": [
    "df_embeddings.info()"
   ]
  },
  {
   "cell_type": "code",
   "execution_count": null,
   "id": "4674a9cc",
   "metadata": {},
   "outputs": [],
   "source": [
    "# Show all data points\n",
    "fig = px.scatter(df_embeddings,x='UMAP 1', y='UMAP 2')\n",
    "fig.show()"
   ]
  },
  {
   "cell_type": "code",
   "execution_count": null,
   "id": "b010dbd3",
   "metadata": {},
   "outputs": [],
   "source": [
    "exclude_noise = df_embeddings[df_embeddings['Topic'] != -1]"
   ]
  },
  {
   "cell_type": "code",
   "execution_count": null,
   "id": "eb67eb09",
   "metadata": {},
   "outputs": [],
   "source": [
    "exclude_noise.info()"
   ]
  },
  {
   "cell_type": "code",
   "execution_count": null,
   "id": "0e3fa48e",
   "metadata": {},
   "outputs": [],
   "source": [
    "noise = df_embeddings[df_embeddings['Topic'] == -1]"
   ]
  },
  {
   "cell_type": "code",
   "execution_count": null,
   "id": "c7ed2a72",
   "metadata": {},
   "outputs": [],
   "source": [
    "# Show all clustered data points\n",
    "fig = px.scatter(exclude_noise,x='UMAP 1', y='UMAP 2',color='Name')\n",
    "\n",
    "fig.update_layout(showlegend=False)\n",
    "\n",
    "fig.show()"
   ]
  },
  {
   "cell_type": "code",
   "execution_count": null,
   "id": "70325a74",
   "metadata": {},
   "outputs": [],
   "source": [
    "rep_docs = exclude_noise[exclude_noise['Representative_document'] == True]"
   ]
  },
  {
   "cell_type": "code",
   "execution_count": null,
   "id": "e00f442f",
   "metadata": {},
   "outputs": [],
   "source": [
    "rep_docs.info()"
   ]
  },
  {
   "cell_type": "code",
   "execution_count": null,
   "id": "b9cfbde6",
   "metadata": {},
   "outputs": [],
   "source": [
    "mean_rep = rep_docs.groupby('Topic').mean(numeric_only=True)"
   ]
  },
  {
   "cell_type": "code",
   "execution_count": null,
   "id": "7cc49672",
   "metadata": {},
   "outputs": [],
   "source": [
    "mean_rep"
   ]
  },
  {
   "cell_type": "code",
   "execution_count": null,
   "id": "542161a6",
   "metadata": {},
   "outputs": [],
   "source": [
    "topic_names = pd.read_excel('Data/Reviews_FinalLabels.xlsx')"
   ]
  },
  {
   "cell_type": "code",
   "execution_count": null,
   "id": "a11cd590",
   "metadata": {},
   "outputs": [],
   "source": [
    "topic_names.info()"
   ]
  },
  {
   "cell_type": "code",
   "execution_count": null,
   "id": "8a862784",
   "metadata": {},
   "outputs": [],
   "source": [
    "# Show only representative documents\n",
    "fig = px.scatter(x=mean_rep['UMAP 1'], \n",
    "                 y=mean_rep['UMAP 2'],\n",
    "                 text=topic_names['Final Label'],\n",
    "                 opacity=0)\n",
    "\n",
    "fig.update_layout(font=dict(size=10))\n",
    "\n",
    "fig.show()"
   ]
  },
  {
   "cell_type": "code",
   "execution_count": null,
   "id": "76eb97fa",
   "metadata": {},
   "outputs": [],
   "source": [
    "topic_names['Final Label'] = topic_names['Final Label'].str.replace(' and ','<br>and ')\n",
    "topic_names['Final Label'] = topic_names['Final Label'].str.replace(' of ','<br>of ')\n",
    "topic_names['Final Label'] = topic_names['Final Label'].str.replace(' or ','<br>or ')\n",
    "\n",
    "# Fix some wonky behavior\n",
    "topic_names['Final Label'] = topic_names['Final Label'].str.replace('<br>and Associated',' and Associated')"
   ]
  },
  {
   "cell_type": "code",
   "execution_count": null,
   "id": "a52ad706",
   "metadata": {},
   "outputs": [],
   "source": [
    "np.unique(exclude_noise['Topic'])"
   ]
  },
  {
   "cell_type": "code",
   "execution_count": null,
   "id": "83b3865d",
   "metadata": {},
   "outputs": [],
   "source": [
    "# Choose colors with RGB (v2):\n",
    "\n",
    "#make_colors = mean_rep.copy()\n",
    "\n",
    "#make_colors['UMAP 1'] = 255*(make_colors['UMAP 1'] - make_colors['UMAP 1'].min())/(make_colors['UMAP 1'].max() - make_colors['UMAP 1'].min())\n",
    "#make_colors['UMAP 2'] = 255*(make_colors['UMAP 2'] - make_colors['UMAP 2'].min())/(make_colors['UMAP 2'].max() - make_colors['UMAP 2'].min())\n",
    "\n",
    "#red = list(make_colors['UMAP 1'])\n",
    "#blue = list(make_colors['UMAP 2'])\n",
    "\n",
    "#red_blue = dict(zip(red,blue))\n",
    "\n",
    "#color_list = list()\n",
    "\n",
    "#for key, value in red_blue.items():\n",
    "    #color = \"rgb(\" + str(int(key)) + \",\" + str(random.randint(0, 255)) + \",\" + str(int(value)) + \")\"\n",
    "    #color_list.append(color)"
   ]
  },
  {
   "cell_type": "code",
   "execution_count": null,
   "id": "0e49dd0c",
   "metadata": {},
   "outputs": [],
   "source": [
    "swatch(\"glasbey_bw_minc_20\")[0:46]"
   ]
  },
  {
   "cell_type": "code",
   "execution_count": null,
   "id": "66af5349",
   "metadata": {},
   "outputs": [],
   "source": [
    "cc.b_glasbey_bw_minc_20[:46]"
   ]
  },
  {
   "cell_type": "code",
   "execution_count": null,
   "id": "c2050afe",
   "metadata": {},
   "outputs": [],
   "source": [
    "#color_list = px.colors.qualitative.Alphabet + px.colors.qualitative.Plotly + px.colors.qualitative.G10\n",
    "#color_list.remove('#E2E2E2')\n",
    "color_map = dict(zip(np.unique(exclude_noise['Topic']),cc.b_glasbey_bw_minc_20[:46]))"
   ]
  },
  {
   "cell_type": "code",
   "execution_count": null,
   "id": "efaa2e7d",
   "metadata": {},
   "outputs": [],
   "source": [
    "color_map"
   ]
  },
  {
   "cell_type": "code",
   "execution_count": null,
   "id": "37545f78",
   "metadata": {},
   "outputs": [],
   "source": [
    "cluster_color = exclude_noise['Topic'].map(color_map)"
   ]
  },
  {
   "cell_type": "code",
   "execution_count": null,
   "id": "80925528",
   "metadata": {},
   "outputs": [],
   "source": [
    "cluster_color"
   ]
  },
  {
   "cell_type": "code",
   "execution_count": null,
   "id": "599ead0e",
   "metadata": {
    "scrolled": true
   },
   "outputs": [],
   "source": [
    "# Let's combine some of these together...\n",
    "\n",
    "# Show all clustered data points\n",
    "\n",
    "fig = go.Figure(\n",
    "    go.Scatter(\n",
    "        x=mean_rep['UMAP 1'],\n",
    "        y=mean_rep['UMAP 2'],\n",
    "        text=topic_names['Final Label'],\n",
    "        mode='text',\n",
    "        \n",
    "    )\n",
    ")\n",
    "\n",
    "fig.add_trace(\n",
    "    go.Scatter(x=exclude_noise['UMAP 1'],\n",
    "               y=exclude_noise['UMAP 2'],\n",
    "               mode = 'markers',\n",
    "               marker=dict(color=cluster_color),\n",
    "               zorder = -2)\n",
    ")\n",
    "\n",
    "fig.add_trace(\n",
    "   go.Scatter(x=noise['UMAP 1'],\n",
    "               y=noise['UMAP 2'],\n",
    "               mode = 'markers',\n",
    "               marker=dict(color='#E2E2E2'),\n",
    "               zorder = -3)\n",
    ")\n",
    "\n",
    "fig.update_layout(showlegend=False,\n",
    "                 autosize=False,\n",
    "                  width=1200,\n",
    "                  height=800,\n",
    "                  font_size=8,\n",
    "                 paper_bgcolor='rgba(255,255,255,1)',\n",
    "                  plot_bgcolor='rgba(255,255,255,1)')\n",
    "\n",
    "fig.update_traces(\n",
    "    marker=dict(opacity=0.25),\n",
    "    #selector=dict(name='Unclustered')\n",
    ")\n",
    "\n",
    "fig.show()"
   ]
  },
  {
   "cell_type": "code",
   "execution_count": null,
   "id": "3dd79822",
   "metadata": {},
   "outputs": [],
   "source": [
    "fig.write_image('Results/Fig2_TopicMap.pdf')"
   ]
  },
  {
   "cell_type": "code",
   "execution_count": null,
   "id": "6ce485b3",
   "metadata": {},
   "outputs": [],
   "source": [
    "fig.write_image('Results/Fig2_TopicMap.png')"
   ]
  },
  {
   "cell_type": "code",
   "execution_count": null,
   "id": "05ee1c8f",
   "metadata": {},
   "outputs": [],
   "source": []
  }
 ],
 "metadata": {
  "kernelspec": {
   "display_name": "Python 3",
   "language": "python",
   "name": "python3"
  },
  "language_info": {
   "codemirror_mode": {
    "name": "ipython",
    "version": 3
   },
   "file_extension": ".py",
   "mimetype": "text/x-python",
   "name": "python",
   "nbconvert_exporter": "python",
   "pygments_lexer": "ipython3",
   "version": "3.11.0"
  }
 },
 "nbformat": 4,
 "nbformat_minor": 5
}
