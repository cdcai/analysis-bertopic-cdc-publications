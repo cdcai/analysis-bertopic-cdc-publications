{
 "cells": [
  {
   "cell_type": "markdown",
   "id": "866886d5",
   "metadata": {},
   "source": [
    "# Import Libraries:"
   ]
  },
  {
   "cell_type": "code",
   "execution_count": null,
   "id": "198c28d6",
   "metadata": {},
   "outputs": [],
   "source": [
    "import pandas as pd\n",
    "import numpy as np\n",
    "import os\n",
    "\n",
    "# Plotting libraries:\n",
    "import plotly.graph_objs as go\n",
    "import plotly.figure_factory as ff\n",
    "import kaleido\n",
    "\n",
    "# Set to display all columns\n",
    "pd.set_option('display.max_columns', None)\n",
    "\n",
    "# Change working directory to one folder up\n",
    "os.chdir('..')\n",
    "\n",
    "# Print working directory\n",
    "print(os.getcwd())"
   ]
  },
  {
   "cell_type": "markdown",
   "id": "c0302602",
   "metadata": {},
   "source": [
    "# Import data:"
   ]
  },
  {
   "cell_type": "code",
   "execution_count": null,
   "id": "72482422",
   "metadata": {},
   "outputs": [],
   "source": [
    "df_cdc = pd.read_csv('Data/FullTable_CDC_Cleaned.csv')"
   ]
  },
  {
   "cell_type": "code",
   "execution_count": null,
   "id": "c0d66f33",
   "metadata": {},
   "outputs": [],
   "source": [
    "# Fill NAs:\n",
    "df_cdc['Altmetric Attention Score'].fillna(0,inplace=True)\n",
    "df_cdc['Altmetric Policy mentions'].fillna(0,inplace=True)\n",
    "df_cdc['Number of Dimensions citations'].fillna(0,inplace=True)\n",
    "df_cdc['BMJ Policy citation count'].fillna(0,inplace=True)"
   ]
  },
  {
   "cell_type": "code",
   "execution_count": null,
   "id": "763f2a61",
   "metadata": {},
   "outputs": [],
   "source": [
    "df_counts = df_cdc.pivot_table(index='Final Label',columns='Year', values='Title', aggfunc='count')"
   ]
  },
  {
   "cell_type": "code",
   "execution_count": null,
   "id": "dd982fe4",
   "metadata": {},
   "outputs": [],
   "source": [
    "df_counts"
   ]
  },
  {
   "cell_type": "code",
   "execution_count": null,
   "id": "e06aebef",
   "metadata": {},
   "outputs": [],
   "source": [
    "# Create traces\n",
    "\n",
    "x_data = ['2014','2015','2016','2017','2018','2019','2020','2021','2022','2023']\n",
    "\n",
    "fig = go.Figure(data=[go.Bar(x=x_data, \n",
    "             y=df_counts.loc['Ebola or Global Emergency Response'])])\n",
    "\n",
    "fig.update_layout(\n",
    "    xaxis=dict(\n",
    "        showline=True,\n",
    "        showgrid=True,\n",
    "        showticklabels=True,\n",
    "        linecolor='rgb(204, 204, 204)',\n",
    "        linewidth=2,\n",
    "        ticks='outside',\n",
    "        tickfont=dict(\n",
    "            family='Arial',\n",
    "            size=12,\n",
    "            color='rgb(82, 82, 82)',\n",
    "        ),\n",
    "    ),\n",
    "    yaxis_title = 'Number of Publications',\n",
    "    yaxis_range = [0,50],\n",
    ")\n",
    "\n",
    "\n",
    "fig.show()"
   ]
  },
  {
   "cell_type": "code",
   "execution_count": null,
   "id": "a232077c",
   "metadata": {},
   "outputs": [],
   "source": [
    "fig.write_image('Results/Fig3_A_Ebola.pdf')"
   ]
  },
  {
   "cell_type": "code",
   "execution_count": null,
   "id": "7f8a8972",
   "metadata": {},
   "outputs": [],
   "source": [
    "# Create traces\n",
    "fig = go.Figure()\n",
    "\n",
    "x_data = ['2014','2015','2016','2017','2018','2019','2020','2021','2022','2023']\n",
    "\n",
    "fig = go.Figure(data=[go.Bar(x=x_data, \n",
    "             y=df_counts.loc['Viral Infections and Pregnancy'])])\n",
    "\n",
    "fig.update_layout(\n",
    "    xaxis=dict(\n",
    "        showline=True,\n",
    "        showgrid=True,\n",
    "        showticklabels=True,\n",
    "        linecolor='rgb(204, 204, 204)',\n",
    "        linewidth=2,\n",
    "        ticks='outside',\n",
    "        tickfont=dict(\n",
    "            family='Arial',\n",
    "            size=12,\n",
    "            color='rgb(82, 82, 82)',\n",
    "        ),\n",
    "    ),\n",
    "    yaxis_title = 'Number of Publications',\n",
    "    yaxis_range = [0,80],\n",
    ")\n",
    "\n",
    "\n",
    "fig.show()"
   ]
  },
  {
   "cell_type": "code",
   "execution_count": null,
   "id": "410743f2",
   "metadata": {},
   "outputs": [],
   "source": [
    "fig.write_image('Results/Fig3_B_Zika.pdf')"
   ]
  },
  {
   "cell_type": "code",
   "execution_count": null,
   "id": "15d4785a",
   "metadata": {},
   "outputs": [],
   "source": [
    "# Create traces\n",
    "\n",
    "x_data = ['2014','2015','2016','2017','2018','2019','2020','2021','2022','2023']\n",
    "\n",
    "fig = go.Figure(data=[go.Bar(x=x_data, \n",
    "             y=df_counts.loc['Respiratory Illnesses or Vaccination'])])\n",
    "\n",
    "fig.update_layout(\n",
    "    xaxis=dict(\n",
    "        showline=True,\n",
    "        showgrid=True,\n",
    "        showticklabels=True,\n",
    "        linecolor='rgb(204, 204, 204)',\n",
    "        linewidth=2,\n",
    "        ticks='outside',\n",
    "        tickfont=dict(\n",
    "            family='Arial',\n",
    "            size=12,\n",
    "            color='rgb(82, 82, 82)',\n",
    "        ),\n",
    "    ),\n",
    "    yaxis_title = 'Number of Publications',\n",
    "    yaxis_range = [0,800]\n",
    ")\n",
    "\n",
    "\n",
    "fig.show()"
   ]
  },
  {
   "cell_type": "code",
   "execution_count": null,
   "id": "81a36819",
   "metadata": {},
   "outputs": [],
   "source": [
    "fig.write_image('Results/Fig3_C_COVID.pdf')"
   ]
  },
  {
   "cell_type": "code",
   "execution_count": null,
   "id": "bf7603d0",
   "metadata": {},
   "outputs": [],
   "source": []
  }
 ],
 "metadata": {
  "kernelspec": {
   "display_name": "Python 3",
   "language": "python",
   "name": "python3"
  },
  "language_info": {
   "codemirror_mode": {
    "name": "ipython",
    "version": 3
   },
   "file_extension": ".py",
   "mimetype": "text/x-python",
   "name": "python",
   "nbconvert_exporter": "python",
   "pygments_lexer": "ipython3",
   "version": "3.11.0"
  }
 },
 "nbformat": 4,
 "nbformat_minor": 5
}
